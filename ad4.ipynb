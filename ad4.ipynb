{
 "cells": [
  {
   "cell_type": "markdown",
   "id": "70df6b77",
   "metadata": {},
   "source": [
    "# AD3: conexión con la API del COVID-19 y análisis con Pandas #\n"
   ]
  },
  {
   "cell_type": "markdown",
   "id": "473ba378",
   "metadata": {},
   "source": [
    "Me conectó a la API https://covid19api.com/"
   ]
  },
  {
   "cell_type": "markdown",
   "id": "f6d55c0f",
   "metadata": {},
   "source": [
    "## Instalación e importación de Pandas ##"
   ]
  },
  {
   "cell_type": "code",
   "execution_count": 1,
   "id": "8e8e40a0",
   "metadata": {},
   "outputs": [
    {
     "name": "stdout",
     "output_type": "stream",
     "text": [
      "Requirement already satisfied: pandas in f:\\anaconda\\lib\\site-packages (1.4.2)\n",
      "Requirement already satisfied: pytz>=2020.1 in f:\\anaconda\\lib\\site-packages (from pandas) (2021.3)\n",
      "Requirement already satisfied: python-dateutil>=2.8.1 in f:\\anaconda\\lib\\site-packages (from pandas) (2.8.2)\n",
      "Requirement already satisfied: numpy>=1.18.5 in f:\\anaconda\\lib\\site-packages (from pandas) (1.21.5)\n",
      "Requirement already satisfied: six>=1.5 in f:\\anaconda\\lib\\site-packages (from python-dateutil>=2.8.1->pandas) (1.16.0)\n"
     ]
    }
   ],
   "source": [
    "!pip install pandas"
   ]
  },
  {
   "cell_type": "markdown",
   "id": "42a4a24e",
   "metadata": {},
   "source": [
    "## Configuaración de Pandas ##"
   ]
  },
  {
   "cell_type": "code",
   "execution_count": 8,
   "id": "01908a4b",
   "metadata": {},
   "outputs": [],
   "source": [
    "import pandas as pd"
   ]
  },
  {
   "cell_type": "markdown",
   "id": "c8189c82",
   "metadata": {},
   "source": [
    "## Variables ##"
   ]
  },
  {
   "cell_type": "markdown",
   "id": "d8202091",
   "metadata": {},
   "source": [
    "Variable de nombre url para hacer llamado a la lista de diccionarios de países de la API del Covid-19. "
   ]
  },
  {
   "cell_type": "code",
   "execution_count": 36,
   "id": "bb0d9d4b",
   "metadata": {},
   "outputs": [],
   "source": [
    "url = 'https://api.covid19api.com/countries'"
   ]
  },
  {
   "cell_type": "code",
   "execution_count": 37,
   "id": "0d860437",
   "metadata": {},
   "outputs": [
    {
     "data": {
      "text/plain": [
       "'https://api.covid19api.com/countries'"
      ]
     },
     "execution_count": 37,
     "metadata": {},
     "output_type": "execute_result"
    }
   ],
   "source": [
    "url"
   ]
  },
  {
   "cell_type": "markdown",
   "id": "b9fc7356",
   "metadata": {},
   "source": [
    "agrego una variable para la función <code>pd.read_json para la variable anterior</code>.\n",
    "\n",
    "df = pd.read_json <code>`https://api.covid19api.com/countries`</code>\n",
    "\n",
    "Se hace a través de variable para facilitar su uso posterior con código más breve.\n",
    "\n",
    "Luego halo el datajson para ver si ha funcionado la importación, lo que muestra una tabla en la que hay 248 elementos. En este caso empieza a contar en 0 por tratarse de json.\n",
    "\n",
    "Este código nos muestra un resumen con las filas del inicio y las del final."
   ]
  },
  {
   "cell_type": "code",
   "execution_count": 38,
   "id": "b2bc5b39",
   "metadata": {},
   "outputs": [],
   "source": [
    "df = pd.read_json(url)"
   ]
  },
  {
   "cell_type": "code",
   "execution_count": 39,
   "id": "5b91c421",
   "metadata": {},
   "outputs": [
    {
     "data": {
      "text/html": [
       "<div>\n",
       "<style scoped>\n",
       "    .dataframe tbody tr th:only-of-type {\n",
       "        vertical-align: middle;\n",
       "    }\n",
       "\n",
       "    .dataframe tbody tr th {\n",
       "        vertical-align: top;\n",
       "    }\n",
       "\n",
       "    .dataframe thead th {\n",
       "        text-align: right;\n",
       "    }\n",
       "</style>\n",
       "<table border=\"1\" class=\"dataframe\">\n",
       "  <thead>\n",
       "    <tr style=\"text-align: right;\">\n",
       "      <th></th>\n",
       "      <th>Country</th>\n",
       "      <th>Slug</th>\n",
       "      <th>ISO2</th>\n",
       "    </tr>\n",
       "  </thead>\n",
       "  <tbody>\n",
       "    <tr>\n",
       "      <th>0</th>\n",
       "      <td>Gibraltar</td>\n",
       "      <td>gibraltar</td>\n",
       "      <td>GI</td>\n",
       "    </tr>\n",
       "    <tr>\n",
       "      <th>1</th>\n",
       "      <td>Oman</td>\n",
       "      <td>oman</td>\n",
       "      <td>OM</td>\n",
       "    </tr>\n",
       "    <tr>\n",
       "      <th>2</th>\n",
       "      <td>France</td>\n",
       "      <td>france</td>\n",
       "      <td>FR</td>\n",
       "    </tr>\n",
       "    <tr>\n",
       "      <th>3</th>\n",
       "      <td>Jersey</td>\n",
       "      <td>jersey</td>\n",
       "      <td>JE</td>\n",
       "    </tr>\n",
       "    <tr>\n",
       "      <th>4</th>\n",
       "      <td>Mali</td>\n",
       "      <td>mali</td>\n",
       "      <td>ML</td>\n",
       "    </tr>\n",
       "    <tr>\n",
       "      <th>...</th>\n",
       "      <td>...</td>\n",
       "      <td>...</td>\n",
       "      <td>...</td>\n",
       "    </tr>\n",
       "    <tr>\n",
       "      <th>243</th>\n",
       "      <td>Puerto Rico</td>\n",
       "      <td>puerto-rico</td>\n",
       "      <td>PR</td>\n",
       "    </tr>\n",
       "    <tr>\n",
       "      <th>244</th>\n",
       "      <td>Papua New Guinea</td>\n",
       "      <td>papua-new-guinea</td>\n",
       "      <td>PG</td>\n",
       "    </tr>\n",
       "    <tr>\n",
       "      <th>245</th>\n",
       "      <td>Saint Pierre and Miquelon</td>\n",
       "      <td>saint-pierre-and-miquelon</td>\n",
       "      <td>PM</td>\n",
       "    </tr>\n",
       "    <tr>\n",
       "      <th>246</th>\n",
       "      <td>Timor-Leste</td>\n",
       "      <td>timor-leste</td>\n",
       "      <td>TL</td>\n",
       "    </tr>\n",
       "    <tr>\n",
       "      <th>247</th>\n",
       "      <td>Montenegro</td>\n",
       "      <td>montenegro</td>\n",
       "      <td>ME</td>\n",
       "    </tr>\n",
       "  </tbody>\n",
       "</table>\n",
       "<p>248 rows × 3 columns</p>\n",
       "</div>"
      ],
      "text/plain": [
       "                       Country                       Slug ISO2\n",
       "0                    Gibraltar                  gibraltar   GI\n",
       "1                         Oman                       oman   OM\n",
       "2                       France                     france   FR\n",
       "3                       Jersey                     jersey   JE\n",
       "4                         Mali                       mali   ML\n",
       "..                         ...                        ...  ...\n",
       "243                Puerto Rico                puerto-rico   PR\n",
       "244           Papua New Guinea           papua-new-guinea   PG\n",
       "245  Saint Pierre and Miquelon  saint-pierre-and-miquelon   PM\n",
       "246                Timor-Leste                timor-leste   TL\n",
       "247                 Montenegro                 montenegro   ME\n",
       "\n",
       "[248 rows x 3 columns]"
      ]
     },
     "execution_count": 39,
     "metadata": {},
     "output_type": "execute_result"
    }
   ],
   "source": [
    "df"
   ]
  },
  {
   "cell_type": "markdown",
   "id": "5fd82ede",
   "metadata": {},
   "source": [
    "Para ver los datos de España, ya que tengo una columna de países, hago una lista nueva que seleccione solo los identificadores similares a Spain."
   ]
  },
  {
   "cell_type": "code",
   "execution_count": 11,
   "id": "9e325685",
   "metadata": {},
   "outputs": [
    {
     "data": {
      "text/html": [
       "<div>\n",
       "<style scoped>\n",
       "    .dataframe tbody tr th:only-of-type {\n",
       "        vertical-align: middle;\n",
       "    }\n",
       "\n",
       "    .dataframe tbody tr th {\n",
       "        vertical-align: top;\n",
       "    }\n",
       "\n",
       "    .dataframe thead th {\n",
       "        text-align: right;\n",
       "    }\n",
       "</style>\n",
       "<table border=\"1\" class=\"dataframe\">\n",
       "  <thead>\n",
       "    <tr style=\"text-align: right;\">\n",
       "      <th></th>\n",
       "      <th>Country</th>\n",
       "      <th>Slug</th>\n",
       "      <th>ISO2</th>\n",
       "    </tr>\n",
       "  </thead>\n",
       "  <tbody>\n",
       "    <tr>\n",
       "      <th>141</th>\n",
       "      <td>Spain</td>\n",
       "      <td>spain</td>\n",
       "      <td>ES</td>\n",
       "    </tr>\n",
       "  </tbody>\n",
       "</table>\n",
       "</div>"
      ],
      "text/plain": [
       "    Country   Slug ISO2\n",
       "141   Spain  spain   ES"
      ]
     },
     "execution_count": 11,
     "metadata": {},
     "output_type": "execute_result"
    }
   ],
   "source": [
    "df[df['Country'] == 'Spain']"
   ]
  },
  {
   "cell_type": "markdown",
   "id": "1cde37de",
   "metadata": {},
   "source": [
    "Defino otra variable con los datos en tiempo real de España.\n",
    "\n",
    "Creo el objeto df_rt_es para que lea la información de la url previa.\n",
    "\n",
    "Luego muestro los datos para ver que ha funcionado correctamente."
   ]
  },
  {
   "cell_type": "code",
   "execution_count": 18,
   "id": "a4916b3c",
   "metadata": {},
   "outputs": [
    {
     "data": {
      "text/html": [
       "<div>\n",
       "<style scoped>\n",
       "    .dataframe tbody tr th:only-of-type {\n",
       "        vertical-align: middle;\n",
       "    }\n",
       "\n",
       "    .dataframe tbody tr th {\n",
       "        vertical-align: top;\n",
       "    }\n",
       "\n",
       "    .dataframe thead th {\n",
       "        text-align: right;\n",
       "    }\n",
       "</style>\n",
       "<table border=\"1\" class=\"dataframe\">\n",
       "  <thead>\n",
       "    <tr style=\"text-align: right;\">\n",
       "      <th></th>\n",
       "      <th>Country</th>\n",
       "      <th>CountryCode</th>\n",
       "      <th>Province</th>\n",
       "      <th>City</th>\n",
       "      <th>CityCode</th>\n",
       "      <th>Lat</th>\n",
       "      <th>Lon</th>\n",
       "      <th>Cases</th>\n",
       "      <th>Status</th>\n",
       "      <th>Date</th>\n",
       "    </tr>\n",
       "  </thead>\n",
       "  <tbody>\n",
       "    <tr>\n",
       "      <th>0</th>\n",
       "      <td>Spain</td>\n",
       "      <td>ES</td>\n",
       "      <td></td>\n",
       "      <td></td>\n",
       "      <td></td>\n",
       "      <td>40.46</td>\n",
       "      <td>-3.75</td>\n",
       "      <td>0</td>\n",
       "      <td>confirmed</td>\n",
       "      <td>2020-01-22 00:00:00+00:00</td>\n",
       "    </tr>\n",
       "    <tr>\n",
       "      <th>1</th>\n",
       "      <td>Spain</td>\n",
       "      <td>ES</td>\n",
       "      <td></td>\n",
       "      <td></td>\n",
       "      <td></td>\n",
       "      <td>40.46</td>\n",
       "      <td>-3.75</td>\n",
       "      <td>0</td>\n",
       "      <td>confirmed</td>\n",
       "      <td>2020-01-23 00:00:00+00:00</td>\n",
       "    </tr>\n",
       "    <tr>\n",
       "      <th>2</th>\n",
       "      <td>Spain</td>\n",
       "      <td>ES</td>\n",
       "      <td></td>\n",
       "      <td></td>\n",
       "      <td></td>\n",
       "      <td>40.46</td>\n",
       "      <td>-3.75</td>\n",
       "      <td>0</td>\n",
       "      <td>confirmed</td>\n",
       "      <td>2020-01-24 00:00:00+00:00</td>\n",
       "    </tr>\n",
       "    <tr>\n",
       "      <th>3</th>\n",
       "      <td>Spain</td>\n",
       "      <td>ES</td>\n",
       "      <td></td>\n",
       "      <td></td>\n",
       "      <td></td>\n",
       "      <td>40.46</td>\n",
       "      <td>-3.75</td>\n",
       "      <td>0</td>\n",
       "      <td>confirmed</td>\n",
       "      <td>2020-01-25 00:00:00+00:00</td>\n",
       "    </tr>\n",
       "    <tr>\n",
       "      <th>4</th>\n",
       "      <td>Spain</td>\n",
       "      <td>ES</td>\n",
       "      <td></td>\n",
       "      <td></td>\n",
       "      <td></td>\n",
       "      <td>40.46</td>\n",
       "      <td>-3.75</td>\n",
       "      <td>0</td>\n",
       "      <td>confirmed</td>\n",
       "      <td>2020-01-26 00:00:00+00:00</td>\n",
       "    </tr>\n",
       "    <tr>\n",
       "      <th>...</th>\n",
       "      <td>...</td>\n",
       "      <td>...</td>\n",
       "      <td>...</td>\n",
       "      <td>...</td>\n",
       "      <td>...</td>\n",
       "      <td>...</td>\n",
       "      <td>...</td>\n",
       "      <td>...</td>\n",
       "      <td>...</td>\n",
       "      <td>...</td>\n",
       "    </tr>\n",
       "    <tr>\n",
       "      <th>891</th>\n",
       "      <td>Spain</td>\n",
       "      <td>ES</td>\n",
       "      <td></td>\n",
       "      <td></td>\n",
       "      <td></td>\n",
       "      <td>40.46</td>\n",
       "      <td>-3.75</td>\n",
       "      <td>12818184</td>\n",
       "      <td>confirmed</td>\n",
       "      <td>2022-07-01 00:00:00+00:00</td>\n",
       "    </tr>\n",
       "    <tr>\n",
       "      <th>892</th>\n",
       "      <td>Spain</td>\n",
       "      <td>ES</td>\n",
       "      <td></td>\n",
       "      <td></td>\n",
       "      <td></td>\n",
       "      <td>40.46</td>\n",
       "      <td>-3.75</td>\n",
       "      <td>12818184</td>\n",
       "      <td>confirmed</td>\n",
       "      <td>2022-07-02 00:00:00+00:00</td>\n",
       "    </tr>\n",
       "    <tr>\n",
       "      <th>893</th>\n",
       "      <td>Spain</td>\n",
       "      <td>ES</td>\n",
       "      <td></td>\n",
       "      <td></td>\n",
       "      <td></td>\n",
       "      <td>40.46</td>\n",
       "      <td>-3.75</td>\n",
       "      <td>12818184</td>\n",
       "      <td>confirmed</td>\n",
       "      <td>2022-07-03 00:00:00+00:00</td>\n",
       "    </tr>\n",
       "    <tr>\n",
       "      <th>894</th>\n",
       "      <td>Spain</td>\n",
       "      <td>ES</td>\n",
       "      <td></td>\n",
       "      <td></td>\n",
       "      <td></td>\n",
       "      <td>40.46</td>\n",
       "      <td>-3.75</td>\n",
       "      <td>12818184</td>\n",
       "      <td>confirmed</td>\n",
       "      <td>2022-07-04 00:00:00+00:00</td>\n",
       "    </tr>\n",
       "    <tr>\n",
       "      <th>895</th>\n",
       "      <td>Spain</td>\n",
       "      <td>ES</td>\n",
       "      <td></td>\n",
       "      <td></td>\n",
       "      <td></td>\n",
       "      <td>40.46</td>\n",
       "      <td>-3.75</td>\n",
       "      <td>12890002</td>\n",
       "      <td>confirmed</td>\n",
       "      <td>2022-07-05 00:00:00+00:00</td>\n",
       "    </tr>\n",
       "  </tbody>\n",
       "</table>\n",
       "<p>896 rows × 10 columns</p>\n",
       "</div>"
      ],
      "text/plain": [
       "    Country CountryCode Province City CityCode    Lat   Lon     Cases  \\\n",
       "0     Spain          ES                         40.46 -3.75         0   \n",
       "1     Spain          ES                         40.46 -3.75         0   \n",
       "2     Spain          ES                         40.46 -3.75         0   \n",
       "3     Spain          ES                         40.46 -3.75         0   \n",
       "4     Spain          ES                         40.46 -3.75         0   \n",
       "..      ...         ...      ...  ...      ...    ...   ...       ...   \n",
       "891   Spain          ES                         40.46 -3.75  12818184   \n",
       "892   Spain          ES                         40.46 -3.75  12818184   \n",
       "893   Spain          ES                         40.46 -3.75  12818184   \n",
       "894   Spain          ES                         40.46 -3.75  12818184   \n",
       "895   Spain          ES                         40.46 -3.75  12890002   \n",
       "\n",
       "        Status                      Date  \n",
       "0    confirmed 2020-01-22 00:00:00+00:00  \n",
       "1    confirmed 2020-01-23 00:00:00+00:00  \n",
       "2    confirmed 2020-01-24 00:00:00+00:00  \n",
       "3    confirmed 2020-01-25 00:00:00+00:00  \n",
       "4    confirmed 2020-01-26 00:00:00+00:00  \n",
       "..         ...                       ...  \n",
       "891  confirmed 2022-07-01 00:00:00+00:00  \n",
       "892  confirmed 2022-07-02 00:00:00+00:00  \n",
       "893  confirmed 2022-07-03 00:00:00+00:00  \n",
       "894  confirmed 2022-07-04 00:00:00+00:00  \n",
       "895  confirmed 2022-07-05 00:00:00+00:00  \n",
       "\n",
       "[896 rows x 10 columns]"
      ]
     },
     "execution_count": 18,
     "metadata": {},
     "output_type": "execute_result"
    }
   ],
   "source": [
    "url_rt_es = 'https://api.covid19api.com/country/spain/status/confirmed/live'\n",
    "df_rt_es = pd.read_json(url_rt_es)\n",
    "df_rt_es"
   ]
  },
  {
   "cell_type": "markdown",
   "id": "3b2eac18",
   "metadata": {},
   "source": [
    "coloco df_rt_es.head() para ver el inicio de la tabla"
   ]
  },
  {
   "cell_type": "code",
   "execution_count": 13,
   "id": "7ae85257",
   "metadata": {},
   "outputs": [
    {
     "data": {
      "text/html": [
       "<div>\n",
       "<style scoped>\n",
       "    .dataframe tbody tr th:only-of-type {\n",
       "        vertical-align: middle;\n",
       "    }\n",
       "\n",
       "    .dataframe tbody tr th {\n",
       "        vertical-align: top;\n",
       "    }\n",
       "\n",
       "    .dataframe thead th {\n",
       "        text-align: right;\n",
       "    }\n",
       "</style>\n",
       "<table border=\"1\" class=\"dataframe\">\n",
       "  <thead>\n",
       "    <tr style=\"text-align: right;\">\n",
       "      <th></th>\n",
       "      <th>Country</th>\n",
       "      <th>CountryCode</th>\n",
       "      <th>Province</th>\n",
       "      <th>City</th>\n",
       "      <th>CityCode</th>\n",
       "      <th>Lat</th>\n",
       "      <th>Lon</th>\n",
       "      <th>Cases</th>\n",
       "      <th>Status</th>\n",
       "      <th>Date</th>\n",
       "    </tr>\n",
       "  </thead>\n",
       "  <tbody>\n",
       "    <tr>\n",
       "      <th>0</th>\n",
       "      <td>Spain</td>\n",
       "      <td>ES</td>\n",
       "      <td></td>\n",
       "      <td></td>\n",
       "      <td></td>\n",
       "      <td>40.46</td>\n",
       "      <td>-3.75</td>\n",
       "      <td>0</td>\n",
       "      <td>confirmed</td>\n",
       "      <td>2020-01-22 00:00:00+00:00</td>\n",
       "    </tr>\n",
       "    <tr>\n",
       "      <th>1</th>\n",
       "      <td>Spain</td>\n",
       "      <td>ES</td>\n",
       "      <td></td>\n",
       "      <td></td>\n",
       "      <td></td>\n",
       "      <td>40.46</td>\n",
       "      <td>-3.75</td>\n",
       "      <td>0</td>\n",
       "      <td>confirmed</td>\n",
       "      <td>2020-01-23 00:00:00+00:00</td>\n",
       "    </tr>\n",
       "    <tr>\n",
       "      <th>2</th>\n",
       "      <td>Spain</td>\n",
       "      <td>ES</td>\n",
       "      <td></td>\n",
       "      <td></td>\n",
       "      <td></td>\n",
       "      <td>40.46</td>\n",
       "      <td>-3.75</td>\n",
       "      <td>0</td>\n",
       "      <td>confirmed</td>\n",
       "      <td>2020-01-24 00:00:00+00:00</td>\n",
       "    </tr>\n",
       "    <tr>\n",
       "      <th>3</th>\n",
       "      <td>Spain</td>\n",
       "      <td>ES</td>\n",
       "      <td></td>\n",
       "      <td></td>\n",
       "      <td></td>\n",
       "      <td>40.46</td>\n",
       "      <td>-3.75</td>\n",
       "      <td>0</td>\n",
       "      <td>confirmed</td>\n",
       "      <td>2020-01-25 00:00:00+00:00</td>\n",
       "    </tr>\n",
       "    <tr>\n",
       "      <th>4</th>\n",
       "      <td>Spain</td>\n",
       "      <td>ES</td>\n",
       "      <td></td>\n",
       "      <td></td>\n",
       "      <td></td>\n",
       "      <td>40.46</td>\n",
       "      <td>-3.75</td>\n",
       "      <td>0</td>\n",
       "      <td>confirmed</td>\n",
       "      <td>2020-01-26 00:00:00+00:00</td>\n",
       "    </tr>\n",
       "  </tbody>\n",
       "</table>\n",
       "</div>"
      ],
      "text/plain": [
       "  Country CountryCode Province City CityCode    Lat   Lon  Cases     Status  \\\n",
       "0   Spain          ES                         40.46 -3.75      0  confirmed   \n",
       "1   Spain          ES                         40.46 -3.75      0  confirmed   \n",
       "2   Spain          ES                         40.46 -3.75      0  confirmed   \n",
       "3   Spain          ES                         40.46 -3.75      0  confirmed   \n",
       "4   Spain          ES                         40.46 -3.75      0  confirmed   \n",
       "\n",
       "                       Date  \n",
       "0 2020-01-22 00:00:00+00:00  \n",
       "1 2020-01-23 00:00:00+00:00  \n",
       "2 2020-01-24 00:00:00+00:00  \n",
       "3 2020-01-25 00:00:00+00:00  \n",
       "4 2020-01-26 00:00:00+00:00  "
      ]
     },
     "execution_count": 13,
     "metadata": {},
     "output_type": "execute_result"
    }
   ],
   "source": [
    "df_rt_es.head()"
   ]
  },
  {
   "cell_type": "markdown",
   "id": "71fe7d0f",
   "metadata": {},
   "source": [
    "Luego df_rt_es.tail() para ver la parte final de la tabla."
   ]
  },
  {
   "cell_type": "code",
   "execution_count": 14,
   "id": "2bae4df6",
   "metadata": {},
   "outputs": [
    {
     "data": {
      "text/html": [
       "<div>\n",
       "<style scoped>\n",
       "    .dataframe tbody tr th:only-of-type {\n",
       "        vertical-align: middle;\n",
       "    }\n",
       "\n",
       "    .dataframe tbody tr th {\n",
       "        vertical-align: top;\n",
       "    }\n",
       "\n",
       "    .dataframe thead th {\n",
       "        text-align: right;\n",
       "    }\n",
       "</style>\n",
       "<table border=\"1\" class=\"dataframe\">\n",
       "  <thead>\n",
       "    <tr style=\"text-align: right;\">\n",
       "      <th></th>\n",
       "      <th>Country</th>\n",
       "      <th>CountryCode</th>\n",
       "      <th>Province</th>\n",
       "      <th>City</th>\n",
       "      <th>CityCode</th>\n",
       "      <th>Lat</th>\n",
       "      <th>Lon</th>\n",
       "      <th>Cases</th>\n",
       "      <th>Status</th>\n",
       "      <th>Date</th>\n",
       "    </tr>\n",
       "  </thead>\n",
       "  <tbody>\n",
       "    <tr>\n",
       "      <th>890</th>\n",
       "      <td>Spain</td>\n",
       "      <td>ES</td>\n",
       "      <td></td>\n",
       "      <td></td>\n",
       "      <td></td>\n",
       "      <td>40.46</td>\n",
       "      <td>-3.75</td>\n",
       "      <td>12734038</td>\n",
       "      <td>confirmed</td>\n",
       "      <td>2022-06-30 00:00:00+00:00</td>\n",
       "    </tr>\n",
       "    <tr>\n",
       "      <th>891</th>\n",
       "      <td>Spain</td>\n",
       "      <td>ES</td>\n",
       "      <td></td>\n",
       "      <td></td>\n",
       "      <td></td>\n",
       "      <td>40.46</td>\n",
       "      <td>-3.75</td>\n",
       "      <td>12818184</td>\n",
       "      <td>confirmed</td>\n",
       "      <td>2022-07-01 00:00:00+00:00</td>\n",
       "    </tr>\n",
       "    <tr>\n",
       "      <th>892</th>\n",
       "      <td>Spain</td>\n",
       "      <td>ES</td>\n",
       "      <td></td>\n",
       "      <td></td>\n",
       "      <td></td>\n",
       "      <td>40.46</td>\n",
       "      <td>-3.75</td>\n",
       "      <td>12818184</td>\n",
       "      <td>confirmed</td>\n",
       "      <td>2022-07-02 00:00:00+00:00</td>\n",
       "    </tr>\n",
       "    <tr>\n",
       "      <th>893</th>\n",
       "      <td>Spain</td>\n",
       "      <td>ES</td>\n",
       "      <td></td>\n",
       "      <td></td>\n",
       "      <td></td>\n",
       "      <td>40.46</td>\n",
       "      <td>-3.75</td>\n",
       "      <td>12818184</td>\n",
       "      <td>confirmed</td>\n",
       "      <td>2022-07-03 00:00:00+00:00</td>\n",
       "    </tr>\n",
       "    <tr>\n",
       "      <th>894</th>\n",
       "      <td>Spain</td>\n",
       "      <td>ES</td>\n",
       "      <td></td>\n",
       "      <td></td>\n",
       "      <td></td>\n",
       "      <td>40.46</td>\n",
       "      <td>-3.75</td>\n",
       "      <td>12818184</td>\n",
       "      <td>confirmed</td>\n",
       "      <td>2022-07-04 00:00:00+00:00</td>\n",
       "    </tr>\n",
       "  </tbody>\n",
       "</table>\n",
       "</div>"
      ],
      "text/plain": [
       "    Country CountryCode Province City CityCode    Lat   Lon     Cases  \\\n",
       "890   Spain          ES                         40.46 -3.75  12734038   \n",
       "891   Spain          ES                         40.46 -3.75  12818184   \n",
       "892   Spain          ES                         40.46 -3.75  12818184   \n",
       "893   Spain          ES                         40.46 -3.75  12818184   \n",
       "894   Spain          ES                         40.46 -3.75  12818184   \n",
       "\n",
       "        Status                      Date  \n",
       "890  confirmed 2022-06-30 00:00:00+00:00  \n",
       "891  confirmed 2022-07-01 00:00:00+00:00  \n",
       "892  confirmed 2022-07-02 00:00:00+00:00  \n",
       "893  confirmed 2022-07-03 00:00:00+00:00  \n",
       "894  confirmed 2022-07-04 00:00:00+00:00  "
      ]
     },
     "execution_count": 14,
     "metadata": {},
     "output_type": "execute_result"
    }
   ],
   "source": [
    "df_rt_es.tail()"
   ]
  },
  {
   "cell_type": "markdown",
   "id": "1f22c748",
   "metadata": {},
   "source": [
    "Tenemos una tabla con columnas para ID, país, código de país, provincia, ciudad, código de ciudad, latitud, longitud, número de casos, estado y la fecha. Si deseo obtener una gráfica con el número de casos y la fecha lo que tengo que hacer es transformar la columna de control. Para ello convierto la columna de fecha en columna de control pidiéndole ya que me muestre los casos España con desde el 20 de enero de 2020 al 29 de junio de 2022 con la expresión df_rt_es.set_index('Date')['Cases'].plot(title=\"Casos de Covid-19 en España desde 20/01/2020 hasta 29/06/2022\") a la que debo darle un nombre de variable para no tener problemas con la configuración de Anaconda3. Le coloco el nombre plot_rt_es."
   ]
  },
  {
   "cell_type": "code",
   "execution_count": 15,
   "id": "6adda6d4",
   "metadata": {},
   "outputs": [
    {
     "data": {
      "image/png": "[encoded data removed]",
      "text/plain": [
       "<Figure size 432x288 with 1 Axes>"
      ]
     },
     "metadata": {
      "needs_background": "light"
     },
     "output_type": "display_data"
    }
   ],
   "source": [
    "plot_rt_es = df_rt_es.set_index('Date')['Cases'].plot(title=\"Casos de Covid-19 en España desde 20/01/2020 hasta 05/07/2022\")"
   ]
  },
  {
   "cell_type": "markdown",
   "id": "278f7980",
   "metadata": {},
   "source": [
    "## Repetir el proceso para Panamá ##"
   ]
  },
  {
   "cell_type": "markdown",
   "id": "8c107ca8",
   "metadata": {},
   "source": [
    "Ejecuto el mismo código de variables, pero para la url de Panamá."
   ]
  },
  {
   "cell_type": "code",
   "execution_count": 40,
   "id": "9bd1d5c4",
   "metadata": {},
   "outputs": [
    {
     "data": {
      "text/html": [
       "<div>\n",
       "<style scoped>\n",
       "    .dataframe tbody tr th:only-of-type {\n",
       "        vertical-align: middle;\n",
       "    }\n",
       "\n",
       "    .dataframe tbody tr th {\n",
       "        vertical-align: top;\n",
       "    }\n",
       "\n",
       "    .dataframe thead th {\n",
       "        text-align: right;\n",
       "    }\n",
       "</style>\n",
       "<table border=\"1\" class=\"dataframe\">\n",
       "  <thead>\n",
       "    <tr style=\"text-align: right;\">\n",
       "      <th></th>\n",
       "      <th>Country</th>\n",
       "      <th>Slug</th>\n",
       "      <th>ISO2</th>\n",
       "    </tr>\n",
       "  </thead>\n",
       "  <tbody>\n",
       "    <tr>\n",
       "      <th>190</th>\n",
       "      <td>Panama</td>\n",
       "      <td>panama</td>\n",
       "      <td>PA</td>\n",
       "    </tr>\n",
       "  </tbody>\n",
       "</table>\n",
       "</div>"
      ],
      "text/plain": [
       "    Country    Slug ISO2\n",
       "190  Panama  panama   PA"
      ]
     },
     "execution_count": 40,
     "metadata": {},
     "output_type": "execute_result"
    }
   ],
   "source": [
    "df[df['Country'] == 'Panama']"
   ]
  },
  {
   "cell_type": "code",
   "execution_count": 31,
   "id": "5098be06",
   "metadata": {},
   "outputs": [],
   "source": [
    "url_rt_pa = 'https://api.covid19api.com/country/panama/status/confirmed/live'"
   ]
  },
  {
   "cell_type": "code",
   "execution_count": 12,
   "id": "94a77a4b",
   "metadata": {},
   "outputs": [
    {
     "data": {
      "text/plain": [
       "'https://api.covid19api.com/country/panama/status/confirmed/live'"
      ]
     },
     "execution_count": 12,
     "metadata": {},
     "output_type": "execute_result"
    }
   ],
   "source": [
    "url_rt_pa"
   ]
  },
  {
   "cell_type": "code",
   "execution_count": 13,
   "id": "3563c197",
   "metadata": {},
   "outputs": [],
   "source": [
    "df_rt_pa = pd.read_json(url_rt_pa)"
   ]
  },
  {
   "cell_type": "markdown",
   "id": "0bc450b5",
   "metadata": {},
   "source": [
    "df_rt_pa"
   ]
  },
  {
   "cell_type": "code",
   "execution_count": 14,
   "id": "8cdca347",
   "metadata": {},
   "outputs": [
    {
     "data": {
      "image/png": "[encoded data removed]",
      "text/plain": [
       "<Figure size 432x288 with 1 Axes>"
      ]
     },
     "metadata": {
      "needs_background": "light"
     },
     "output_type": "display_data"
    }
   ],
   "source": [
    "plot_rt_pa = df_rt_pa.set_index('Date')['Cases'].plot(title=\"Casos de Covid-19 en Panamá desde 20/01/2020 hasta 05/07/2022\")"
   ]
  },
  {
   "cell_type": "markdown",
   "id": "bf5afb4a",
   "metadata": {},
   "source": [
    "Agrego ,kind=\"area\" al final se colocaría el gráfico de área y con ,kind=\"bar\" el gráfico de barras, aunque este formato no es lógico para este tipo de datos como puede visualizarse en el segundo ejemplo."
   ]
  },
  {
   "cell_type": "code",
   "execution_count": 15,
   "id": "aad57c94",
   "metadata": {},
   "outputs": [
    {
     "data": {
      "image/png": "[encoded data removed]",
      "text/plain": [
       "<Figure size 432x288 with 1 Axes>"
      ]
     },
     "metadata": {
      "needs_background": "light"
     },
     "output_type": "display_data"
    }
   ],
   "source": [
    "plot_rt_pa = df_rt_pa.set_index('Date')['Cases'].plot(title=\"Casos de Covid-19 en Panamá desde 20/01/2020 hasta 05/07/2022\",kind=\"area\")"
   ]
  },
  {
   "cell_type": "code",
   "execution_count": 16,
   "id": "78864c99",
   "metadata": {},
   "outputs": [
    {
     "data": {
      "image/png": "[encoded data removed]",
      "text/plain": [
       "<Figure size 432x288 with 1 Axes>"
      ]
     },
     "metadata": {
      "needs_background": "light"
     },
     "output_type": "display_data"
    }
   ],
   "source": [
    "plot_rt_pa = df_rt_pa.set_index('Date')['Cases'].plot(title=\"Casos de Covid-19 en Panamá desde 20/01/2020 hasta 05/07/2022\",kind=\"bar\")"
   ]
  },
  {
   "cell_type": "markdown",
   "id": "d2d450ab",
   "metadata": {},
   "source": [
    "## Ploteamos dos países ##"
   ]
  },
  {
   "cell_type": "markdown",
   "id": "d65e1fe3",
   "metadata": {},
   "source": [
    "Para plotear dos o más paises realizamos los siguientes pasos:\n",
    "\n",
    "Nuevamente identificamos las variables previas de lectura de Json de las dos URLs para no volver a repetir el proceso desde arriba al cerrar el documento."
   ]
  },
  {
   "cell_type": "code",
   "execution_count": 19,
   "id": "2c574f3d",
   "metadata": {},
   "outputs": [],
   "source": [
    "df_rt_pa = pd.read_json(url_rt_pa)\n",
    "df_rt_es = pd.read_json(url_rt_es)"
   ]
  },
  {
   "cell_type": "markdown",
   "id": "c6512f61",
   "metadata": {},
   "source": [
    "Se separan los casos por fecha en cada uno de los países y se plotea para visualizar la gráfica."
   ]
  },
  {
   "cell_type": "code",
   "execution_count": 20,
   "id": "4c550b4c",
   "metadata": {},
   "outputs": [
    {
     "data": {
      "text/plain": [
       "<AxesSubplot:title={'center':'Casos de Covid-19 en Panamá'}, xlabel='Date'>"
      ]
     },
     "execution_count": 20,
     "metadata": {},
     "output_type": "execute_result"
    },
    {
     "data": {
      "image/png": "[encoded data removed]",
      "text/plain": [
       "<Figure size 432x288 with 1 Axes>"
      ]
     },
     "metadata": {
      "needs_background": "light"
     },
     "output_type": "display_data"
    }
   ],
   "source": [
    "casos_pa = df_rt_pa.set_index('Date')['Cases']\n",
    "casos_pa.plot(title=\"Casos de Covid-19 en Panamá\")"
   ]
  },
  {
   "cell_type": "code",
   "execution_count": 21,
   "id": "88413dd0",
   "metadata": {},
   "outputs": [
    {
     "data": {
      "text/plain": [
       "<AxesSubplot:title={'center':'Casos de Covid-19 en España'}, xlabel='Date'>"
      ]
     },
     "execution_count": 21,
     "metadata": {},
     "output_type": "execute_result"
    },
    {
     "data": {
      "image/png": "[encoded data removed]",
      "text/plain": [
       "<Figure size 432x288 with 1 Axes>"
      ]
     },
     "metadata": {
      "needs_background": "light"
     },
     "output_type": "display_data"
    }
   ],
   "source": [
    "casos_es = df_rt_es.set_index('Date')['Cases']\n",
    "casos_pa.plot(title=\"Casos de Covid-19 en España\")"
   ]
  },
  {
   "cell_type": "markdown",
   "id": "b5fff1d8",
   "metadata": {},
   "source": [
    "Para visualizar podemos unir ambas tablas por fechas y casos en ambos países."
   ]
  },
  {
   "cell_type": "code",
   "execution_count": 22,
   "id": "fa4e1f4f",
   "metadata": {},
   "outputs": [
    {
     "data": {
      "text/html": [
       "<div>\n",
       "<style scoped>\n",
       "    .dataframe tbody tr th:only-of-type {\n",
       "        vertical-align: middle;\n",
       "    }\n",
       "\n",
       "    .dataframe tbody tr th {\n",
       "        vertical-align: top;\n",
       "    }\n",
       "\n",
       "    .dataframe thead th {\n",
       "        text-align: right;\n",
       "    }\n",
       "</style>\n",
       "<table border=\"1\" class=\"dataframe\">\n",
       "  <thead>\n",
       "    <tr style=\"text-align: right;\">\n",
       "      <th></th>\n",
       "      <th>Cases</th>\n",
       "      <th>Cases</th>\n",
       "    </tr>\n",
       "    <tr>\n",
       "      <th>Date</th>\n",
       "      <th></th>\n",
       "      <th></th>\n",
       "    </tr>\n",
       "  </thead>\n",
       "  <tbody>\n",
       "    <tr>\n",
       "      <th>2020-01-22 00:00:00+00:00</th>\n",
       "      <td>0.0</td>\n",
       "      <td>0</td>\n",
       "    </tr>\n",
       "    <tr>\n",
       "      <th>2020-01-23 00:00:00+00:00</th>\n",
       "      <td>0.0</td>\n",
       "      <td>0</td>\n",
       "    </tr>\n",
       "    <tr>\n",
       "      <th>2020-01-24 00:00:00+00:00</th>\n",
       "      <td>0.0</td>\n",
       "      <td>0</td>\n",
       "    </tr>\n",
       "    <tr>\n",
       "      <th>2020-01-25 00:00:00+00:00</th>\n",
       "      <td>0.0</td>\n",
       "      <td>0</td>\n",
       "    </tr>\n",
       "    <tr>\n",
       "      <th>2020-01-26 00:00:00+00:00</th>\n",
       "      <td>0.0</td>\n",
       "      <td>0</td>\n",
       "    </tr>\n",
       "    <tr>\n",
       "      <th>...</th>\n",
       "      <td>...</td>\n",
       "      <td>...</td>\n",
       "    </tr>\n",
       "    <tr>\n",
       "      <th>2022-07-02 00:00:00+00:00</th>\n",
       "      <td>12818184.0</td>\n",
       "      <td>922990</td>\n",
       "    </tr>\n",
       "    <tr>\n",
       "      <th>2022-07-03 00:00:00+00:00</th>\n",
       "      <td>12818184.0</td>\n",
       "      <td>925254</td>\n",
       "    </tr>\n",
       "    <tr>\n",
       "      <th>2022-07-04 00:00:00+00:00</th>\n",
       "      <td>12818184.0</td>\n",
       "      <td>925254</td>\n",
       "    </tr>\n",
       "    <tr>\n",
       "      <th>2022-07-05 00:00:00+00:00</th>\n",
       "      <td>12890002.0</td>\n",
       "      <td>925254</td>\n",
       "    </tr>\n",
       "    <tr>\n",
       "      <th>2022-07-07 00:00:00+00:00</th>\n",
       "      <td>NaN</td>\n",
       "      <td>925254</td>\n",
       "    </tr>\n",
       "  </tbody>\n",
       "</table>\n",
       "<p>897 rows × 2 columns</p>\n",
       "</div>"
      ],
      "text/plain": [
       "                                Cases   Cases\n",
       "Date                                         \n",
       "2020-01-22 00:00:00+00:00         0.0       0\n",
       "2020-01-23 00:00:00+00:00         0.0       0\n",
       "2020-01-24 00:00:00+00:00         0.0       0\n",
       "2020-01-25 00:00:00+00:00         0.0       0\n",
       "2020-01-26 00:00:00+00:00         0.0       0\n",
       "...                               ...     ...\n",
       "2022-07-02 00:00:00+00:00  12818184.0  922990\n",
       "2022-07-03 00:00:00+00:00  12818184.0  925254\n",
       "2022-07-04 00:00:00+00:00  12818184.0  925254\n",
       "2022-07-05 00:00:00+00:00  12890002.0  925254\n",
       "2022-07-07 00:00:00+00:00         NaN  925254\n",
       "\n",
       "[897 rows x 2 columns]"
      ]
     },
     "execution_count": 22,
     "metadata": {},
     "output_type": "execute_result"
    }
   ],
   "source": [
    "pa_vs_es = pd.concat([casos_es,casos_pa],axis=1)\n",
    "pa_vs_es"
   ]
  },
  {
   "cell_type": "markdown",
   "id": "8110e0c5",
   "metadata": {},
   "source": [
    "Para identificar los países marcamos las columnas con el nombre del país y visualizamos la gráfica con los datos nombrados."
   ]
  },
  {
   "cell_type": "code",
   "execution_count": 23,
   "id": "16c388ea",
   "metadata": {},
   "outputs": [
    {
     "data": {
      "text/html": [
       "<div>\n",
       "<style scoped>\n",
       "    .dataframe tbody tr th:only-of-type {\n",
       "        vertical-align: middle;\n",
       "    }\n",
       "\n",
       "    .dataframe tbody tr th {\n",
       "        vertical-align: top;\n",
       "    }\n",
       "\n",
       "    .dataframe thead th {\n",
       "        text-align: right;\n",
       "    }\n",
       "</style>\n",
       "<table border=\"1\" class=\"dataframe\">\n",
       "  <thead>\n",
       "    <tr style=\"text-align: right;\">\n",
       "      <th></th>\n",
       "      <th>España</th>\n",
       "      <th>Panamá</th>\n",
       "    </tr>\n",
       "    <tr>\n",
       "      <th>Date</th>\n",
       "      <th></th>\n",
       "      <th></th>\n",
       "    </tr>\n",
       "  </thead>\n",
       "  <tbody>\n",
       "    <tr>\n",
       "      <th>2020-01-22 00:00:00+00:00</th>\n",
       "      <td>0.0</td>\n",
       "      <td>0</td>\n",
       "    </tr>\n",
       "    <tr>\n",
       "      <th>2020-01-23 00:00:00+00:00</th>\n",
       "      <td>0.0</td>\n",
       "      <td>0</td>\n",
       "    </tr>\n",
       "    <tr>\n",
       "      <th>2020-01-24 00:00:00+00:00</th>\n",
       "      <td>0.0</td>\n",
       "      <td>0</td>\n",
       "    </tr>\n",
       "    <tr>\n",
       "      <th>2020-01-25 00:00:00+00:00</th>\n",
       "      <td>0.0</td>\n",
       "      <td>0</td>\n",
       "    </tr>\n",
       "    <tr>\n",
       "      <th>2020-01-26 00:00:00+00:00</th>\n",
       "      <td>0.0</td>\n",
       "      <td>0</td>\n",
       "    </tr>\n",
       "    <tr>\n",
       "      <th>...</th>\n",
       "      <td>...</td>\n",
       "      <td>...</td>\n",
       "    </tr>\n",
       "    <tr>\n",
       "      <th>2022-07-02 00:00:00+00:00</th>\n",
       "      <td>12818184.0</td>\n",
       "      <td>922990</td>\n",
       "    </tr>\n",
       "    <tr>\n",
       "      <th>2022-07-03 00:00:00+00:00</th>\n",
       "      <td>12818184.0</td>\n",
       "      <td>925254</td>\n",
       "    </tr>\n",
       "    <tr>\n",
       "      <th>2022-07-04 00:00:00+00:00</th>\n",
       "      <td>12818184.0</td>\n",
       "      <td>925254</td>\n",
       "    </tr>\n",
       "    <tr>\n",
       "      <th>2022-07-05 00:00:00+00:00</th>\n",
       "      <td>12890002.0</td>\n",
       "      <td>925254</td>\n",
       "    </tr>\n",
       "    <tr>\n",
       "      <th>2022-07-07 00:00:00+00:00</th>\n",
       "      <td>NaN</td>\n",
       "      <td>925254</td>\n",
       "    </tr>\n",
       "  </tbody>\n",
       "</table>\n",
       "<p>897 rows × 2 columns</p>\n",
       "</div>"
      ],
      "text/plain": [
       "                               España  Panamá\n",
       "Date                                         \n",
       "2020-01-22 00:00:00+00:00         0.0       0\n",
       "2020-01-23 00:00:00+00:00         0.0       0\n",
       "2020-01-24 00:00:00+00:00         0.0       0\n",
       "2020-01-25 00:00:00+00:00         0.0       0\n",
       "2020-01-26 00:00:00+00:00         0.0       0\n",
       "...                               ...     ...\n",
       "2022-07-02 00:00:00+00:00  12818184.0  922990\n",
       "2022-07-03 00:00:00+00:00  12818184.0  925254\n",
       "2022-07-04 00:00:00+00:00  12818184.0  925254\n",
       "2022-07-05 00:00:00+00:00  12890002.0  925254\n",
       "2022-07-07 00:00:00+00:00         NaN  925254\n",
       "\n",
       "[897 rows x 2 columns]"
      ]
     },
     "execution_count": 23,
     "metadata": {},
     "output_type": "execute_result"
    }
   ],
   "source": [
    "pa_vs_es.columns= ['España','Panamá']\n",
    "pa_vs_es"
   ]
  },
  {
   "cell_type": "markdown",
   "id": "11c9341c",
   "metadata": {},
   "source": [
    "Luego a esta unión le hacemos un ploteo para visualizar la comparativa de forma visual."
   ]
  },
  {
   "cell_type": "code",
   "execution_count": 24,
   "id": "67cea596",
   "metadata": {},
   "outputs": [
    {
     "data": {
      "text/plain": [
       "<AxesSubplot:title={'center':'Comparativa Covid-19 España-Panamá'}, xlabel='Date'>"
      ]
     },
     "execution_count": 24,
     "metadata": {},
     "output_type": "execute_result"
    },
    {
     "data": {
      "image/png": "[encoded data removed]",
      "text/plain": [
       "<Figure size 432x288 with 1 Axes>"
      ]
     },
     "metadata": {
      "needs_background": "light"
     },
     "output_type": "display_data"
    }
   ],
   "source": [
    "pa_vs_es.plot(title=\"Comparativa Covid-19 España-Panamá\")"
   ]
  },
  {
   "cell_type": "markdown",
   "id": "f51c9836",
   "metadata": {},
   "source": [
    "Si deseamos descargar los datos en CSV lo podemos hacer con la función: pa_vs_es.to_csv('pa_vs_cr.csv') siendo pa_vs_cr el nombre de la tabla comparativa."
   ]
  },
  {
   "cell_type": "code",
   "execution_count": 25,
   "id": "59e88fd1",
   "metadata": {},
   "outputs": [
    {
     "name": "stdout",
     "output_type": "stream",
     "text": [
      " El volumen de la unidad C es Windows\n",
      " El n£mero de serie del volumen es: 14F5-C7E9\n",
      "\n",
      " Directorio de C:\\Users\\Cecilio Salda¤a\\csaldanag-web\n",
      "\n",
      "07/06/2022  09:58 p. m.    <DIR>          .\n",
      "07/06/2022  09:58 p. m.    <DIR>          ..\n",
      "07/05/2022  11:51 p. m.    <DIR>          .ipynb_checkpoints\n",
      "06/27/2022  11:57 p. m.             2,114 ad1.md\n",
      "07/01/2022  11:33 p. m.             2,939 AD2.md\n",
      "07/01/2022  10:18 p. m.            25,090 ad3.ipynb\n",
      "07/06/2022  09:57 p. m.           172,888 ad4.ipynb\n",
      "07/06/2022  12:00 a. m.            17,758 ad4.md\n",
      "07/06/2022  12:00 a. m.            14,115 output_22_0.png\n",
      "07/06/2022  12:00 a. m.            14,864 output_30_0.png\n",
      "07/06/2022  12:00 a. m.            13,971 output_32_0.png\n",
      "07/06/2022  12:00 a. m.            13,784 output_33_0.png\n",
      "07/06/2022  09:58 p. m.            38,587 pa_vs_cr.csv\n",
      "07/06/2022  12:17 a. m.               580 README.md\n",
      "              11 archivos        316,690 bytes\n",
      "               3 dirs  44,099,219,456 bytes libres\n"
     ]
    }
   ],
   "source": [
    "pa_vs_es.to_csv('pa_vs_cr.csv')\n",
    "%ls"
   ]
  },
  {
   "cell_type": "markdown",
   "id": "ab4b7d10",
   "metadata": {},
   "source": [
    "Para exportar una gráfica determinada en PNG o SVG seguiríamos los siguientes códigos:"
   ]
  },
  {
   "cell_type": "code",
   "execution_count": 26,
   "id": "253c2774",
   "metadata": {},
   "outputs": [
    {
     "name": "stdout",
     "output_type": "stream",
     "text": [
      " El volumen de la unidad C es Windows\n",
      " El n£mero de serie del volumen es: 14F5-C7E9\n",
      "\n",
      " Directorio de C:\\Users\\Cecilio Salda¤a\\csaldanag-web\n",
      "\n",
      "07/06/2022  09:59 p. m.    <DIR>          .\n",
      "07/06/2022  09:59 p. m.    <DIR>          ..\n",
      "07/05/2022  11:51 p. m.    <DIR>          .ipynb_checkpoints\n",
      "06/27/2022  11:57 p. m.             2,114 ad1.md\n",
      "07/01/2022  11:33 p. m.             2,939 AD2.md\n",
      "07/01/2022  10:18 p. m.            25,090 ad3.ipynb\n",
      "07/06/2022  09:57 p. m.           172,888 ad4.ipynb\n",
      "07/06/2022  12:00 a. m.            17,758 ad4.md\n",
      "07/06/2022  12:00 a. m.            14,115 output_22_0.png\n",
      "07/06/2022  12:00 a. m.            14,864 output_30_0.png\n",
      "07/06/2022  12:00 a. m.            13,971 output_32_0.png\n",
      "07/06/2022  12:00 a. m.            13,784 output_33_0.png\n",
      "07/06/2022  09:58 p. m.            38,587 pa_vs_cr.csv\n",
      "07/06/2022  09:59 p. m.            14,309 pa_vs_es.png\n",
      "07/06/2022  12:17 a. m.               580 README.md\n",
      "              12 archivos        330,999 bytes\n",
      "               3 dirs  44,098,809,856 bytes libres\n"
     ]
    },
    {
     "data": {
      "image/png": "[encoded data removed]",
      "text/plain": [
       "<Figure size 432x288 with 1 Axes>"
      ]
     },
     "metadata": {
      "needs_background": "light"
     },
     "output_type": "display_data"
    }
   ],
   "source": [
    "import matplotlib.pyplot as plt\n",
    "pa_vs_es.plot(title=\"Panamá vs España\")\n",
    "plt.savefig('pa_vs_es.png')\n",
    "%ls"
   ]
  },
  {
   "cell_type": "code",
   "execution_count": 27,
   "id": "fc29d480",
   "metadata": {},
   "outputs": [
    {
     "name": "stdout",
     "output_type": "stream",
     "text": [
      " El volumen de la unidad C es Windows\n",
      " El n£mero de serie del volumen es: 14F5-C7E9\n",
      "\n",
      " Directorio de C:\\Users\\Cecilio Salda¤a\\csaldanag-web\n",
      "\n",
      "07/06/2022  09:59 p. m.    <DIR>          .\n",
      "07/06/2022  09:59 p. m.    <DIR>          ..\n",
      "07/05/2022  11:51 p. m.    <DIR>          .ipynb_checkpoints\n",
      "06/27/2022  11:57 p. m.             2,114 ad1.md\n",
      "07/01/2022  11:33 p. m.             2,939 AD2.md\n",
      "07/01/2022  10:18 p. m.            25,090 ad3.ipynb\n",
      "07/06/2022  09:59 p. m.           195,048 ad4.ipynb\n",
      "07/06/2022  12:00 a. m.            17,758 ad4.md\n",
      "07/06/2022  12:00 a. m.            14,115 output_22_0.png\n",
      "07/06/2022  12:00 a. m.            14,864 output_30_0.png\n",
      "07/06/2022  12:00 a. m.            13,971 output_32_0.png\n",
      "07/06/2022  12:00 a. m.            13,784 output_33_0.png\n",
      "07/06/2022  09:58 p. m.            38,587 pa_vs_cr.csv\n",
      "07/06/2022  09:59 p. m.            14,309 pa_vs_es.png\n",
      "07/06/2022  09:59 p. m.            37,156 pa_vs_es.svg\n",
      "07/06/2022  12:17 a. m.               580 README.md\n",
      "              13 archivos        390,315 bytes\n",
      "               3 dirs  44,097,945,600 bytes libres\n"
     ]
    },
    {
     "data": {
      "image/png": "[encoded data removed]",
      "text/plain": [
       "<Figure size 432x288 with 1 Axes>"
      ]
     },
     "metadata": {
      "needs_background": "light"
     },
     "output_type": "display_data"
    }
   ],
   "source": [
    "pa_vs_es.plot(title=\"Panamá vs España\")\n",
    "plt.savefig(\"pa_vs_es.svg\", format=\"svg\")\n",
    "%ls"
   ]
  },
  {
   "cell_type": "markdown",
   "id": "56c86adc",
   "metadata": {},
   "source": [
    "Por medio del programa Inkscape que es de acceso libre  podemos realizar modificaciones en las gráficas en formato SVG (formato vectorial para la web)."
   ]
  },
  {
   "cell_type": "markdown",
   "id": "84b40834",
   "metadata": {},
   "source": [
    "## Repetimos  el proceso para lograr una comparativa de Centroamérica ##"
   ]
  },
  {
   "cell_type": "markdown",
   "id": "9470bb57",
   "metadata": {},
   "source": [
    "El listado de países:\n",
    "\n",
    "- Panamá\n",
    "- Costa Rica\n",
    "- Nicaragua\n",
    "- Guatemala\n",
    "- El Salvador\n",
    "- Honduras"
   ]
  },
  {
   "cell_type": "markdown",
   "id": "372a69ec",
   "metadata": {},
   "source": [
    "Compruebo el slug y el ISO2 para emplear en la URL y en el identificador posteriormente (en todos los países)."
   ]
  },
  {
   "cell_type": "code",
   "execution_count": 41,
   "id": "72a2c595",
   "metadata": {},
   "outputs": [
    {
     "data": {
      "text/html": [
       "<div>\n",
       "<style scoped>\n",
       "    .dataframe tbody tr th:only-of-type {\n",
       "        vertical-align: middle;\n",
       "    }\n",
       "\n",
       "    .dataframe tbody tr th {\n",
       "        vertical-align: top;\n",
       "    }\n",
       "\n",
       "    .dataframe thead th {\n",
       "        text-align: right;\n",
       "    }\n",
       "</style>\n",
       "<table border=\"1\" class=\"dataframe\">\n",
       "  <thead>\n",
       "    <tr style=\"text-align: right;\">\n",
       "      <th></th>\n",
       "      <th>Country</th>\n",
       "      <th>Slug</th>\n",
       "      <th>ISO2</th>\n",
       "    </tr>\n",
       "  </thead>\n",
       "  <tbody>\n",
       "    <tr>\n",
       "      <th>190</th>\n",
       "      <td>Panama</td>\n",
       "      <td>panama</td>\n",
       "      <td>PA</td>\n",
       "    </tr>\n",
       "  </tbody>\n",
       "</table>\n",
       "</div>"
      ],
      "text/plain": [
       "    Country    Slug ISO2\n",
       "190  Panama  panama   PA"
      ]
     },
     "execution_count": 41,
     "metadata": {},
     "output_type": "execute_result"
    }
   ],
   "source": [
    "df[df['Country'] == 'Panama']"
   ]
  },
  {
   "cell_type": "code",
   "execution_count": 42,
   "id": "4a8eb208",
   "metadata": {},
   "outputs": [
    {
     "data": {
      "text/html": [
       "<div>\n",
       "<style scoped>\n",
       "    .dataframe tbody tr th:only-of-type {\n",
       "        vertical-align: middle;\n",
       "    }\n",
       "\n",
       "    .dataframe tbody tr th {\n",
       "        vertical-align: top;\n",
       "    }\n",
       "\n",
       "    .dataframe thead th {\n",
       "        text-align: right;\n",
       "    }\n",
       "</style>\n",
       "<table border=\"1\" class=\"dataframe\">\n",
       "  <thead>\n",
       "    <tr style=\"text-align: right;\">\n",
       "      <th></th>\n",
       "      <th>Country</th>\n",
       "      <th>Slug</th>\n",
       "      <th>ISO2</th>\n",
       "    </tr>\n",
       "  </thead>\n",
       "  <tbody>\n",
       "    <tr>\n",
       "      <th>242</th>\n",
       "      <td>Costa Rica</td>\n",
       "      <td>costa-rica</td>\n",
       "      <td>CR</td>\n",
       "    </tr>\n",
       "  </tbody>\n",
       "</table>\n",
       "</div>"
      ],
      "text/plain": [
       "        Country        Slug ISO2\n",
       "242  Costa Rica  costa-rica   CR"
      ]
     },
     "execution_count": 42,
     "metadata": {},
     "output_type": "execute_result"
    }
   ],
   "source": [
    "df[df['Country'] == 'Costa Rica']"
   ]
  },
  {
   "cell_type": "code",
   "execution_count": 43,
   "id": "4fefd223",
   "metadata": {},
   "outputs": [
    {
     "data": {
      "text/html": [
       "<div>\n",
       "<style scoped>\n",
       "    .dataframe tbody tr th:only-of-type {\n",
       "        vertical-align: middle;\n",
       "    }\n",
       "\n",
       "    .dataframe tbody tr th {\n",
       "        vertical-align: top;\n",
       "    }\n",
       "\n",
       "    .dataframe thead th {\n",
       "        text-align: right;\n",
       "    }\n",
       "</style>\n",
       "<table border=\"1\" class=\"dataframe\">\n",
       "  <thead>\n",
       "    <tr style=\"text-align: right;\">\n",
       "      <th></th>\n",
       "      <th>Country</th>\n",
       "      <th>Slug</th>\n",
       "      <th>ISO2</th>\n",
       "    </tr>\n",
       "  </thead>\n",
       "  <tbody>\n",
       "    <tr>\n",
       "      <th>36</th>\n",
       "      <td>Nicaragua</td>\n",
       "      <td>nicaragua</td>\n",
       "      <td>NI</td>\n",
       "    </tr>\n",
       "  </tbody>\n",
       "</table>\n",
       "</div>"
      ],
      "text/plain": [
       "      Country       Slug ISO2\n",
       "36  Nicaragua  nicaragua   NI"
      ]
     },
     "execution_count": 43,
     "metadata": {},
     "output_type": "execute_result"
    }
   ],
   "source": [
    "df[df['Country'] == 'Nicaragua']"
   ]
  },
  {
   "cell_type": "code",
   "execution_count": 44,
   "id": "65c979bc",
   "metadata": {},
   "outputs": [
    {
     "data": {
      "text/html": [
       "<div>\n",
       "<style scoped>\n",
       "    .dataframe tbody tr th:only-of-type {\n",
       "        vertical-align: middle;\n",
       "    }\n",
       "\n",
       "    .dataframe tbody tr th {\n",
       "        vertical-align: top;\n",
       "    }\n",
       "\n",
       "    .dataframe thead th {\n",
       "        text-align: right;\n",
       "    }\n",
       "</style>\n",
       "<table border=\"1\" class=\"dataframe\">\n",
       "  <thead>\n",
       "    <tr style=\"text-align: right;\">\n",
       "      <th></th>\n",
       "      <th>Country</th>\n",
       "      <th>Slug</th>\n",
       "      <th>ISO2</th>\n",
       "    </tr>\n",
       "  </thead>\n",
       "  <tbody>\n",
       "    <tr>\n",
       "      <th>239</th>\n",
       "      <td>Guatemala</td>\n",
       "      <td>guatemala</td>\n",
       "      <td>GT</td>\n",
       "    </tr>\n",
       "  </tbody>\n",
       "</table>\n",
       "</div>"
      ],
      "text/plain": [
       "       Country       Slug ISO2\n",
       "239  Guatemala  guatemala   GT"
      ]
     },
     "execution_count": 44,
     "metadata": {},
     "output_type": "execute_result"
    }
   ],
   "source": [
    "df[df['Country'] == 'Guatemala']"
   ]
  },
  {
   "cell_type": "code",
   "execution_count": 45,
   "id": "8c3ab945",
   "metadata": {},
   "outputs": [
    {
     "data": {
      "text/html": [
       "<div>\n",
       "<style scoped>\n",
       "    .dataframe tbody tr th:only-of-type {\n",
       "        vertical-align: middle;\n",
       "    }\n",
       "\n",
       "    .dataframe tbody tr th {\n",
       "        vertical-align: top;\n",
       "    }\n",
       "\n",
       "    .dataframe thead th {\n",
       "        text-align: right;\n",
       "    }\n",
       "</style>\n",
       "<table border=\"1\" class=\"dataframe\">\n",
       "  <thead>\n",
       "    <tr style=\"text-align: right;\">\n",
       "      <th></th>\n",
       "      <th>Country</th>\n",
       "      <th>Slug</th>\n",
       "      <th>ISO2</th>\n",
       "    </tr>\n",
       "  </thead>\n",
       "  <tbody>\n",
       "    <tr>\n",
       "      <th>139</th>\n",
       "      <td>El Salvador</td>\n",
       "      <td>el-salvador</td>\n",
       "      <td>SV</td>\n",
       "    </tr>\n",
       "  </tbody>\n",
       "</table>\n",
       "</div>"
      ],
      "text/plain": [
       "         Country         Slug ISO2\n",
       "139  El Salvador  el-salvador   SV"
      ]
     },
     "execution_count": 45,
     "metadata": {},
     "output_type": "execute_result"
    }
   ],
   "source": [
    "df[df['Country'] == 'El Salvador']"
   ]
  },
  {
   "cell_type": "code",
   "execution_count": 46,
   "id": "0930ebd1",
   "metadata": {},
   "outputs": [
    {
     "data": {
      "text/html": [
       "<div>\n",
       "<style scoped>\n",
       "    .dataframe tbody tr th:only-of-type {\n",
       "        vertical-align: middle;\n",
       "    }\n",
       "\n",
       "    .dataframe tbody tr th {\n",
       "        vertical-align: top;\n",
       "    }\n",
       "\n",
       "    .dataframe thead th {\n",
       "        text-align: right;\n",
       "    }\n",
       "</style>\n",
       "<table border=\"1\" class=\"dataframe\">\n",
       "  <thead>\n",
       "    <tr style=\"text-align: right;\">\n",
       "      <th></th>\n",
       "      <th>Country</th>\n",
       "      <th>Slug</th>\n",
       "      <th>ISO2</th>\n",
       "    </tr>\n",
       "  </thead>\n",
       "  <tbody>\n",
       "    <tr>\n",
       "      <th>91</th>\n",
       "      <td>Honduras</td>\n",
       "      <td>honduras</td>\n",
       "      <td>HN</td>\n",
       "    </tr>\n",
       "  </tbody>\n",
       "</table>\n",
       "</div>"
      ],
      "text/plain": [
       "     Country      Slug ISO2\n",
       "91  Honduras  honduras   HN"
      ]
     },
     "execution_count": 46,
     "metadata": {},
     "output_type": "execute_result"
    }
   ],
   "source": [
    "df[df['Country'] == 'Honduras']"
   ]
  },
  {
   "cell_type": "markdown",
   "id": "c6277d25",
   "metadata": {},
   "source": [
    "Fijo la variable con la URL de cada país y hago una llamada a Json para esas URLs en busca de las tablas de datos."
   ]
  },
  {
   "cell_type": "code",
   "execution_count": 47,
   "id": "2f6a65ec",
   "metadata": {},
   "outputs": [
    {
     "data": {
      "text/html": [
       "<div>\n",
       "<style scoped>\n",
       "    .dataframe tbody tr th:only-of-type {\n",
       "        vertical-align: middle;\n",
       "    }\n",
       "\n",
       "    .dataframe tbody tr th {\n",
       "        vertical-align: top;\n",
       "    }\n",
       "\n",
       "    .dataframe thead th {\n",
       "        text-align: right;\n",
       "    }\n",
       "</style>\n",
       "<table border=\"1\" class=\"dataframe\">\n",
       "  <thead>\n",
       "    <tr style=\"text-align: right;\">\n",
       "      <th></th>\n",
       "      <th>Country</th>\n",
       "      <th>CountryCode</th>\n",
       "      <th>Province</th>\n",
       "      <th>City</th>\n",
       "      <th>CityCode</th>\n",
       "      <th>Lat</th>\n",
       "      <th>Lon</th>\n",
       "      <th>Cases</th>\n",
       "      <th>Status</th>\n",
       "      <th>Date</th>\n",
       "    </tr>\n",
       "  </thead>\n",
       "  <tbody>\n",
       "    <tr>\n",
       "      <th>0</th>\n",
       "      <td>Panama</td>\n",
       "      <td>PA</td>\n",
       "      <td></td>\n",
       "      <td></td>\n",
       "      <td></td>\n",
       "      <td>8.54</td>\n",
       "      <td>-80.78</td>\n",
       "      <td>0</td>\n",
       "      <td>confirmed</td>\n",
       "      <td>2020-01-22 00:00:00+00:00</td>\n",
       "    </tr>\n",
       "    <tr>\n",
       "      <th>1</th>\n",
       "      <td>Panama</td>\n",
       "      <td>PA</td>\n",
       "      <td></td>\n",
       "      <td></td>\n",
       "      <td></td>\n",
       "      <td>8.54</td>\n",
       "      <td>-80.78</td>\n",
       "      <td>0</td>\n",
       "      <td>confirmed</td>\n",
       "      <td>2020-01-23 00:00:00+00:00</td>\n",
       "    </tr>\n",
       "    <tr>\n",
       "      <th>2</th>\n",
       "      <td>Panama</td>\n",
       "      <td>PA</td>\n",
       "      <td></td>\n",
       "      <td></td>\n",
       "      <td></td>\n",
       "      <td>8.54</td>\n",
       "      <td>-80.78</td>\n",
       "      <td>0</td>\n",
       "      <td>confirmed</td>\n",
       "      <td>2020-01-24 00:00:00+00:00</td>\n",
       "    </tr>\n",
       "    <tr>\n",
       "      <th>3</th>\n",
       "      <td>Panama</td>\n",
       "      <td>PA</td>\n",
       "      <td></td>\n",
       "      <td></td>\n",
       "      <td></td>\n",
       "      <td>8.54</td>\n",
       "      <td>-80.78</td>\n",
       "      <td>0</td>\n",
       "      <td>confirmed</td>\n",
       "      <td>2020-01-25 00:00:00+00:00</td>\n",
       "    </tr>\n",
       "    <tr>\n",
       "      <th>4</th>\n",
       "      <td>Panama</td>\n",
       "      <td>PA</td>\n",
       "      <td></td>\n",
       "      <td></td>\n",
       "      <td></td>\n",
       "      <td>8.54</td>\n",
       "      <td>-80.78</td>\n",
       "      <td>0</td>\n",
       "      <td>confirmed</td>\n",
       "      <td>2020-01-26 00:00:00+00:00</td>\n",
       "    </tr>\n",
       "    <tr>\n",
       "      <th>...</th>\n",
       "      <td>...</td>\n",
       "      <td>...</td>\n",
       "      <td>...</td>\n",
       "      <td>...</td>\n",
       "      <td>...</td>\n",
       "      <td>...</td>\n",
       "      <td>...</td>\n",
       "      <td>...</td>\n",
       "      <td>...</td>\n",
       "      <td>...</td>\n",
       "    </tr>\n",
       "    <tr>\n",
       "      <th>892</th>\n",
       "      <td>Panama</td>\n",
       "      <td>PA</td>\n",
       "      <td></td>\n",
       "      <td></td>\n",
       "      <td></td>\n",
       "      <td>8.54</td>\n",
       "      <td>-80.78</td>\n",
       "      <td>922990</td>\n",
       "      <td>confirmed</td>\n",
       "      <td>2022-07-02 00:00:00+00:00</td>\n",
       "    </tr>\n",
       "    <tr>\n",
       "      <th>893</th>\n",
       "      <td>Panama</td>\n",
       "      <td>PA</td>\n",
       "      <td></td>\n",
       "      <td></td>\n",
       "      <td></td>\n",
       "      <td>8.54</td>\n",
       "      <td>-80.78</td>\n",
       "      <td>925254</td>\n",
       "      <td>confirmed</td>\n",
       "      <td>2022-07-03 00:00:00+00:00</td>\n",
       "    </tr>\n",
       "    <tr>\n",
       "      <th>894</th>\n",
       "      <td>Panama</td>\n",
       "      <td>PA</td>\n",
       "      <td></td>\n",
       "      <td></td>\n",
       "      <td></td>\n",
       "      <td>8.54</td>\n",
       "      <td>-80.78</td>\n",
       "      <td>925254</td>\n",
       "      <td>confirmed</td>\n",
       "      <td>2022-07-04 00:00:00+00:00</td>\n",
       "    </tr>\n",
       "    <tr>\n",
       "      <th>895</th>\n",
       "      <td>Panama</td>\n",
       "      <td>PA</td>\n",
       "      <td></td>\n",
       "      <td></td>\n",
       "      <td></td>\n",
       "      <td>8.54</td>\n",
       "      <td>-80.78</td>\n",
       "      <td>925254</td>\n",
       "      <td>confirmed</td>\n",
       "      <td>2022-07-05 00:00:00+00:00</td>\n",
       "    </tr>\n",
       "    <tr>\n",
       "      <th>896</th>\n",
       "      <td>Panama</td>\n",
       "      <td>PA</td>\n",
       "      <td></td>\n",
       "      <td></td>\n",
       "      <td></td>\n",
       "      <td>8.54</td>\n",
       "      <td>-80.78</td>\n",
       "      <td>925254</td>\n",
       "      <td>confirmed</td>\n",
       "      <td>2022-07-07 00:00:00+00:00</td>\n",
       "    </tr>\n",
       "  </tbody>\n",
       "</table>\n",
       "<p>897 rows × 10 columns</p>\n",
       "</div>"
      ],
      "text/plain": [
       "    Country CountryCode Province City CityCode   Lat    Lon   Cases  \\\n",
       "0    Panama          PA                         8.54 -80.78       0   \n",
       "1    Panama          PA                         8.54 -80.78       0   \n",
       "2    Panama          PA                         8.54 -80.78       0   \n",
       "3    Panama          PA                         8.54 -80.78       0   \n",
       "4    Panama          PA                         8.54 -80.78       0   \n",
       "..      ...         ...      ...  ...      ...   ...    ...     ...   \n",
       "892  Panama          PA                         8.54 -80.78  922990   \n",
       "893  Panama          PA                         8.54 -80.78  925254   \n",
       "894  Panama          PA                         8.54 -80.78  925254   \n",
       "895  Panama          PA                         8.54 -80.78  925254   \n",
       "896  Panama          PA                         8.54 -80.78  925254   \n",
       "\n",
       "        Status                      Date  \n",
       "0    confirmed 2020-01-22 00:00:00+00:00  \n",
       "1    confirmed 2020-01-23 00:00:00+00:00  \n",
       "2    confirmed 2020-01-24 00:00:00+00:00  \n",
       "3    confirmed 2020-01-25 00:00:00+00:00  \n",
       "4    confirmed 2020-01-26 00:00:00+00:00  \n",
       "..         ...                       ...  \n",
       "892  confirmed 2022-07-02 00:00:00+00:00  \n",
       "893  confirmed 2022-07-03 00:00:00+00:00  \n",
       "894  confirmed 2022-07-04 00:00:00+00:00  \n",
       "895  confirmed 2022-07-05 00:00:00+00:00  \n",
       "896  confirmed 2022-07-07 00:00:00+00:00  \n",
       "\n",
       "[897 rows x 10 columns]"
      ]
     },
     "execution_count": 47,
     "metadata": {},
     "output_type": "execute_result"
    }
   ],
   "source": [
    "url_rt_pa = 'https://api.covid19api.com/country/panama/status/confirmed/live'\n",
    "df_rt_pa = pd.read_json(url_rt_pa)\n",
    "df_rt_pa"
   ]
  },
  {
   "cell_type": "code",
   "execution_count": 48,
   "id": "c9aa6a12",
   "metadata": {},
   "outputs": [
    {
     "data": {
      "text/html": [
       "<div>\n",
       "<style scoped>\n",
       "    .dataframe tbody tr th:only-of-type {\n",
       "        vertical-align: middle;\n",
       "    }\n",
       "\n",
       "    .dataframe tbody tr th {\n",
       "        vertical-align: top;\n",
       "    }\n",
       "\n",
       "    .dataframe thead th {\n",
       "        text-align: right;\n",
       "    }\n",
       "</style>\n",
       "<table border=\"1\" class=\"dataframe\">\n",
       "  <thead>\n",
       "    <tr style=\"text-align: right;\">\n",
       "      <th></th>\n",
       "      <th>Country</th>\n",
       "      <th>CountryCode</th>\n",
       "      <th>Province</th>\n",
       "      <th>City</th>\n",
       "      <th>CityCode</th>\n",
       "      <th>Lat</th>\n",
       "      <th>Lon</th>\n",
       "      <th>Cases</th>\n",
       "      <th>Status</th>\n",
       "      <th>Date</th>\n",
       "    </tr>\n",
       "  </thead>\n",
       "  <tbody>\n",
       "    <tr>\n",
       "      <th>0</th>\n",
       "      <td>Costa Rica</td>\n",
       "      <td>CR</td>\n",
       "      <td></td>\n",
       "      <td></td>\n",
       "      <td></td>\n",
       "      <td>9.75</td>\n",
       "      <td>-83.75</td>\n",
       "      <td>0</td>\n",
       "      <td>confirmed</td>\n",
       "      <td>2020-01-22 00:00:00+00:00</td>\n",
       "    </tr>\n",
       "    <tr>\n",
       "      <th>1</th>\n",
       "      <td>Costa Rica</td>\n",
       "      <td>CR</td>\n",
       "      <td></td>\n",
       "      <td></td>\n",
       "      <td></td>\n",
       "      <td>9.75</td>\n",
       "      <td>-83.75</td>\n",
       "      <td>0</td>\n",
       "      <td>confirmed</td>\n",
       "      <td>2020-01-23 00:00:00+00:00</td>\n",
       "    </tr>\n",
       "    <tr>\n",
       "      <th>2</th>\n",
       "      <td>Costa Rica</td>\n",
       "      <td>CR</td>\n",
       "      <td></td>\n",
       "      <td></td>\n",
       "      <td></td>\n",
       "      <td>9.75</td>\n",
       "      <td>-83.75</td>\n",
       "      <td>0</td>\n",
       "      <td>confirmed</td>\n",
       "      <td>2020-01-24 00:00:00+00:00</td>\n",
       "    </tr>\n",
       "    <tr>\n",
       "      <th>3</th>\n",
       "      <td>Costa Rica</td>\n",
       "      <td>CR</td>\n",
       "      <td></td>\n",
       "      <td></td>\n",
       "      <td></td>\n",
       "      <td>9.75</td>\n",
       "      <td>-83.75</td>\n",
       "      <td>0</td>\n",
       "      <td>confirmed</td>\n",
       "      <td>2020-01-25 00:00:00+00:00</td>\n",
       "    </tr>\n",
       "    <tr>\n",
       "      <th>4</th>\n",
       "      <td>Costa Rica</td>\n",
       "      <td>CR</td>\n",
       "      <td></td>\n",
       "      <td></td>\n",
       "      <td></td>\n",
       "      <td>9.75</td>\n",
       "      <td>-83.75</td>\n",
       "      <td>0</td>\n",
       "      <td>confirmed</td>\n",
       "      <td>2020-01-26 00:00:00+00:00</td>\n",
       "    </tr>\n",
       "    <tr>\n",
       "      <th>...</th>\n",
       "      <td>...</td>\n",
       "      <td>...</td>\n",
       "      <td>...</td>\n",
       "      <td>...</td>\n",
       "      <td>...</td>\n",
       "      <td>...</td>\n",
       "      <td>...</td>\n",
       "      <td>...</td>\n",
       "      <td>...</td>\n",
       "      <td>...</td>\n",
       "    </tr>\n",
       "    <tr>\n",
       "      <th>892</th>\n",
       "      <td>Costa Rica</td>\n",
       "      <td>CR</td>\n",
       "      <td></td>\n",
       "      <td></td>\n",
       "      <td></td>\n",
       "      <td>9.75</td>\n",
       "      <td>-83.75</td>\n",
       "      <td>904934</td>\n",
       "      <td>confirmed</td>\n",
       "      <td>2022-07-02 00:00:00+00:00</td>\n",
       "    </tr>\n",
       "    <tr>\n",
       "      <th>893</th>\n",
       "      <td>Costa Rica</td>\n",
       "      <td>CR</td>\n",
       "      <td></td>\n",
       "      <td></td>\n",
       "      <td></td>\n",
       "      <td>9.75</td>\n",
       "      <td>-83.75</td>\n",
       "      <td>904934</td>\n",
       "      <td>confirmed</td>\n",
       "      <td>2022-07-03 00:00:00+00:00</td>\n",
       "    </tr>\n",
       "    <tr>\n",
       "      <th>894</th>\n",
       "      <td>Costa Rica</td>\n",
       "      <td>CR</td>\n",
       "      <td></td>\n",
       "      <td></td>\n",
       "      <td></td>\n",
       "      <td>9.75</td>\n",
       "      <td>-83.75</td>\n",
       "      <td>904934</td>\n",
       "      <td>confirmed</td>\n",
       "      <td>2022-07-04 00:00:00+00:00</td>\n",
       "    </tr>\n",
       "    <tr>\n",
       "      <th>895</th>\n",
       "      <td>Costa Rica</td>\n",
       "      <td>CR</td>\n",
       "      <td></td>\n",
       "      <td></td>\n",
       "      <td></td>\n",
       "      <td>9.75</td>\n",
       "      <td>-83.75</td>\n",
       "      <td>904934</td>\n",
       "      <td>confirmed</td>\n",
       "      <td>2022-07-05 00:00:00+00:00</td>\n",
       "    </tr>\n",
       "    <tr>\n",
       "      <th>896</th>\n",
       "      <td>Costa Rica</td>\n",
       "      <td>CR</td>\n",
       "      <td></td>\n",
       "      <td></td>\n",
       "      <td></td>\n",
       "      <td>9.75</td>\n",
       "      <td>-83.75</td>\n",
       "      <td>904934</td>\n",
       "      <td>confirmed</td>\n",
       "      <td>2022-07-07 00:00:00+00:00</td>\n",
       "    </tr>\n",
       "  </tbody>\n",
       "</table>\n",
       "<p>897 rows × 10 columns</p>\n",
       "</div>"
      ],
      "text/plain": [
       "        Country CountryCode Province City CityCode   Lat    Lon   Cases  \\\n",
       "0    Costa Rica          CR                         9.75 -83.75       0   \n",
       "1    Costa Rica          CR                         9.75 -83.75       0   \n",
       "2    Costa Rica          CR                         9.75 -83.75       0   \n",
       "3    Costa Rica          CR                         9.75 -83.75       0   \n",
       "4    Costa Rica          CR                         9.75 -83.75       0   \n",
       "..          ...         ...      ...  ...      ...   ...    ...     ...   \n",
       "892  Costa Rica          CR                         9.75 -83.75  904934   \n",
       "893  Costa Rica          CR                         9.75 -83.75  904934   \n",
       "894  Costa Rica          CR                         9.75 -83.75  904934   \n",
       "895  Costa Rica          CR                         9.75 -83.75  904934   \n",
       "896  Costa Rica          CR                         9.75 -83.75  904934   \n",
       "\n",
       "        Status                      Date  \n",
       "0    confirmed 2020-01-22 00:00:00+00:00  \n",
       "1    confirmed 2020-01-23 00:00:00+00:00  \n",
       "2    confirmed 2020-01-24 00:00:00+00:00  \n",
       "3    confirmed 2020-01-25 00:00:00+00:00  \n",
       "4    confirmed 2020-01-26 00:00:00+00:00  \n",
       "..         ...                       ...  \n",
       "892  confirmed 2022-07-02 00:00:00+00:00  \n",
       "893  confirmed 2022-07-03 00:00:00+00:00  \n",
       "894  confirmed 2022-07-04 00:00:00+00:00  \n",
       "895  confirmed 2022-07-05 00:00:00+00:00  \n",
       "896  confirmed 2022-07-07 00:00:00+00:00  \n",
       "\n",
       "[897 rows x 10 columns]"
      ]
     },
     "execution_count": 48,
     "metadata": {},
     "output_type": "execute_result"
    }
   ],
   "source": [
    "url_rt_cr = 'https://api.covid19api.com/country/costa-rica/status/confirmed/live'\n",
    "df_rt_cr = pd.read_json(url_rt_cr)\n",
    "df_rt_cr"
   ]
  },
  {
   "cell_type": "code",
   "execution_count": 49,
   "id": "d09b60d9",
   "metadata": {},
   "outputs": [
    {
     "data": {
      "text/html": [
       "<div>\n",
       "<style scoped>\n",
       "    .dataframe tbody tr th:only-of-type {\n",
       "        vertical-align: middle;\n",
       "    }\n",
       "\n",
       "    .dataframe tbody tr th {\n",
       "        vertical-align: top;\n",
       "    }\n",
       "\n",
       "    .dataframe thead th {\n",
       "        text-align: right;\n",
       "    }\n",
       "</style>\n",
       "<table border=\"1\" class=\"dataframe\">\n",
       "  <thead>\n",
       "    <tr style=\"text-align: right;\">\n",
       "      <th></th>\n",
       "      <th>Country</th>\n",
       "      <th>CountryCode</th>\n",
       "      <th>Province</th>\n",
       "      <th>City</th>\n",
       "      <th>CityCode</th>\n",
       "      <th>Lat</th>\n",
       "      <th>Lon</th>\n",
       "      <th>Cases</th>\n",
       "      <th>Status</th>\n",
       "      <th>Date</th>\n",
       "    </tr>\n",
       "  </thead>\n",
       "  <tbody>\n",
       "    <tr>\n",
       "      <th>0</th>\n",
       "      <td>Nicaragua</td>\n",
       "      <td>NI</td>\n",
       "      <td></td>\n",
       "      <td></td>\n",
       "      <td></td>\n",
       "      <td>12.87</td>\n",
       "      <td>-85.21</td>\n",
       "      <td>0</td>\n",
       "      <td>confirmed</td>\n",
       "      <td>2020-01-22 00:00:00+00:00</td>\n",
       "    </tr>\n",
       "    <tr>\n",
       "      <th>1</th>\n",
       "      <td>Nicaragua</td>\n",
       "      <td>NI</td>\n",
       "      <td></td>\n",
       "      <td></td>\n",
       "      <td></td>\n",
       "      <td>12.87</td>\n",
       "      <td>-85.21</td>\n",
       "      <td>0</td>\n",
       "      <td>confirmed</td>\n",
       "      <td>2020-01-23 00:00:00+00:00</td>\n",
       "    </tr>\n",
       "    <tr>\n",
       "      <th>2</th>\n",
       "      <td>Nicaragua</td>\n",
       "      <td>NI</td>\n",
       "      <td></td>\n",
       "      <td></td>\n",
       "      <td></td>\n",
       "      <td>12.87</td>\n",
       "      <td>-85.21</td>\n",
       "      <td>0</td>\n",
       "      <td>confirmed</td>\n",
       "      <td>2020-01-24 00:00:00+00:00</td>\n",
       "    </tr>\n",
       "    <tr>\n",
       "      <th>3</th>\n",
       "      <td>Nicaragua</td>\n",
       "      <td>NI</td>\n",
       "      <td></td>\n",
       "      <td></td>\n",
       "      <td></td>\n",
       "      <td>12.87</td>\n",
       "      <td>-85.21</td>\n",
       "      <td>0</td>\n",
       "      <td>confirmed</td>\n",
       "      <td>2020-01-25 00:00:00+00:00</td>\n",
       "    </tr>\n",
       "    <tr>\n",
       "      <th>4</th>\n",
       "      <td>Nicaragua</td>\n",
       "      <td>NI</td>\n",
       "      <td></td>\n",
       "      <td></td>\n",
       "      <td></td>\n",
       "      <td>12.87</td>\n",
       "      <td>-85.21</td>\n",
       "      <td>0</td>\n",
       "      <td>confirmed</td>\n",
       "      <td>2020-01-26 00:00:00+00:00</td>\n",
       "    </tr>\n",
       "    <tr>\n",
       "      <th>...</th>\n",
       "      <td>...</td>\n",
       "      <td>...</td>\n",
       "      <td>...</td>\n",
       "      <td>...</td>\n",
       "      <td>...</td>\n",
       "      <td>...</td>\n",
       "      <td>...</td>\n",
       "      <td>...</td>\n",
       "      <td>...</td>\n",
       "      <td>...</td>\n",
       "    </tr>\n",
       "    <tr>\n",
       "      <th>892</th>\n",
       "      <td>Nicaragua</td>\n",
       "      <td>NI</td>\n",
       "      <td></td>\n",
       "      <td></td>\n",
       "      <td></td>\n",
       "      <td>12.87</td>\n",
       "      <td>-85.21</td>\n",
       "      <td>14690</td>\n",
       "      <td>confirmed</td>\n",
       "      <td>2022-07-02 00:00:00+00:00</td>\n",
       "    </tr>\n",
       "    <tr>\n",
       "      <th>893</th>\n",
       "      <td>Nicaragua</td>\n",
       "      <td>NI</td>\n",
       "      <td></td>\n",
       "      <td></td>\n",
       "      <td></td>\n",
       "      <td>12.87</td>\n",
       "      <td>-85.21</td>\n",
       "      <td>14690</td>\n",
       "      <td>confirmed</td>\n",
       "      <td>2022-07-03 00:00:00+00:00</td>\n",
       "    </tr>\n",
       "    <tr>\n",
       "      <th>894</th>\n",
       "      <td>Nicaragua</td>\n",
       "      <td>NI</td>\n",
       "      <td></td>\n",
       "      <td></td>\n",
       "      <td></td>\n",
       "      <td>12.87</td>\n",
       "      <td>-85.21</td>\n",
       "      <td>14690</td>\n",
       "      <td>confirmed</td>\n",
       "      <td>2022-07-04 00:00:00+00:00</td>\n",
       "    </tr>\n",
       "    <tr>\n",
       "      <th>895</th>\n",
       "      <td>Nicaragua</td>\n",
       "      <td>NI</td>\n",
       "      <td></td>\n",
       "      <td></td>\n",
       "      <td></td>\n",
       "      <td>12.87</td>\n",
       "      <td>-85.21</td>\n",
       "      <td>14690</td>\n",
       "      <td>confirmed</td>\n",
       "      <td>2022-07-05 00:00:00+00:00</td>\n",
       "    </tr>\n",
       "    <tr>\n",
       "      <th>896</th>\n",
       "      <td>Nicaragua</td>\n",
       "      <td>NI</td>\n",
       "      <td></td>\n",
       "      <td></td>\n",
       "      <td></td>\n",
       "      <td>12.87</td>\n",
       "      <td>-85.21</td>\n",
       "      <td>14721</td>\n",
       "      <td>confirmed</td>\n",
       "      <td>2022-07-07 00:00:00+00:00</td>\n",
       "    </tr>\n",
       "  </tbody>\n",
       "</table>\n",
       "<p>897 rows × 10 columns</p>\n",
       "</div>"
      ],
      "text/plain": [
       "       Country CountryCode Province City CityCode    Lat    Lon  Cases  \\\n",
       "0    Nicaragua          NI                         12.87 -85.21      0   \n",
       "1    Nicaragua          NI                         12.87 -85.21      0   \n",
       "2    Nicaragua          NI                         12.87 -85.21      0   \n",
       "3    Nicaragua          NI                         12.87 -85.21      0   \n",
       "4    Nicaragua          NI                         12.87 -85.21      0   \n",
       "..         ...         ...      ...  ...      ...    ...    ...    ...   \n",
       "892  Nicaragua          NI                         12.87 -85.21  14690   \n",
       "893  Nicaragua          NI                         12.87 -85.21  14690   \n",
       "894  Nicaragua          NI                         12.87 -85.21  14690   \n",
       "895  Nicaragua          NI                         12.87 -85.21  14690   \n",
       "896  Nicaragua          NI                         12.87 -85.21  14721   \n",
       "\n",
       "        Status                      Date  \n",
       "0    confirmed 2020-01-22 00:00:00+00:00  \n",
       "1    confirmed 2020-01-23 00:00:00+00:00  \n",
       "2    confirmed 2020-01-24 00:00:00+00:00  \n",
       "3    confirmed 2020-01-25 00:00:00+00:00  \n",
       "4    confirmed 2020-01-26 00:00:00+00:00  \n",
       "..         ...                       ...  \n",
       "892  confirmed 2022-07-02 00:00:00+00:00  \n",
       "893  confirmed 2022-07-03 00:00:00+00:00  \n",
       "894  confirmed 2022-07-04 00:00:00+00:00  \n",
       "895  confirmed 2022-07-05 00:00:00+00:00  \n",
       "896  confirmed 2022-07-07 00:00:00+00:00  \n",
       "\n",
       "[897 rows x 10 columns]"
      ]
     },
     "execution_count": 49,
     "metadata": {},
     "output_type": "execute_result"
    }
   ],
   "source": [
    "url_rt_ni = 'https://api.covid19api.com/country/nicaragua/status/confirmed/live'\n",
    "df_rt_ni = pd.read_json(url_rt_ni)\n",
    "df_rt_ni"
   ]
  },
  {
   "cell_type": "code",
   "execution_count": 50,
   "id": "346a12c8",
   "metadata": {},
   "outputs": [
    {
     "data": {
      "text/html": [
       "<div>\n",
       "<style scoped>\n",
       "    .dataframe tbody tr th:only-of-type {\n",
       "        vertical-align: middle;\n",
       "    }\n",
       "\n",
       "    .dataframe tbody tr th {\n",
       "        vertical-align: top;\n",
       "    }\n",
       "\n",
       "    .dataframe thead th {\n",
       "        text-align: right;\n",
       "    }\n",
       "</style>\n",
       "<table border=\"1\" class=\"dataframe\">\n",
       "  <thead>\n",
       "    <tr style=\"text-align: right;\">\n",
       "      <th></th>\n",
       "      <th>Country</th>\n",
       "      <th>CountryCode</th>\n",
       "      <th>Province</th>\n",
       "      <th>City</th>\n",
       "      <th>CityCode</th>\n",
       "      <th>Lat</th>\n",
       "      <th>Lon</th>\n",
       "      <th>Cases</th>\n",
       "      <th>Status</th>\n",
       "      <th>Date</th>\n",
       "    </tr>\n",
       "  </thead>\n",
       "  <tbody>\n",
       "    <tr>\n",
       "      <th>0</th>\n",
       "      <td>Guatemala</td>\n",
       "      <td>GT</td>\n",
       "      <td></td>\n",
       "      <td></td>\n",
       "      <td></td>\n",
       "      <td>15.78</td>\n",
       "      <td>-90.23</td>\n",
       "      <td>0</td>\n",
       "      <td>confirmed</td>\n",
       "      <td>2020-01-22 00:00:00+00:00</td>\n",
       "    </tr>\n",
       "    <tr>\n",
       "      <th>1</th>\n",
       "      <td>Guatemala</td>\n",
       "      <td>GT</td>\n",
       "      <td></td>\n",
       "      <td></td>\n",
       "      <td></td>\n",
       "      <td>15.78</td>\n",
       "      <td>-90.23</td>\n",
       "      <td>0</td>\n",
       "      <td>confirmed</td>\n",
       "      <td>2020-01-23 00:00:00+00:00</td>\n",
       "    </tr>\n",
       "    <tr>\n",
       "      <th>2</th>\n",
       "      <td>Guatemala</td>\n",
       "      <td>GT</td>\n",
       "      <td></td>\n",
       "      <td></td>\n",
       "      <td></td>\n",
       "      <td>15.78</td>\n",
       "      <td>-90.23</td>\n",
       "      <td>0</td>\n",
       "      <td>confirmed</td>\n",
       "      <td>2020-01-24 00:00:00+00:00</td>\n",
       "    </tr>\n",
       "    <tr>\n",
       "      <th>3</th>\n",
       "      <td>Guatemala</td>\n",
       "      <td>GT</td>\n",
       "      <td></td>\n",
       "      <td></td>\n",
       "      <td></td>\n",
       "      <td>15.78</td>\n",
       "      <td>-90.23</td>\n",
       "      <td>0</td>\n",
       "      <td>confirmed</td>\n",
       "      <td>2020-01-25 00:00:00+00:00</td>\n",
       "    </tr>\n",
       "    <tr>\n",
       "      <th>4</th>\n",
       "      <td>Guatemala</td>\n",
       "      <td>GT</td>\n",
       "      <td></td>\n",
       "      <td></td>\n",
       "      <td></td>\n",
       "      <td>15.78</td>\n",
       "      <td>-90.23</td>\n",
       "      <td>0</td>\n",
       "      <td>confirmed</td>\n",
       "      <td>2020-01-26 00:00:00+00:00</td>\n",
       "    </tr>\n",
       "    <tr>\n",
       "      <th>...</th>\n",
       "      <td>...</td>\n",
       "      <td>...</td>\n",
       "      <td>...</td>\n",
       "      <td>...</td>\n",
       "      <td>...</td>\n",
       "      <td>...</td>\n",
       "      <td>...</td>\n",
       "      <td>...</td>\n",
       "      <td>...</td>\n",
       "      <td>...</td>\n",
       "    </tr>\n",
       "    <tr>\n",
       "      <th>892</th>\n",
       "      <td>Guatemala</td>\n",
       "      <td>GT</td>\n",
       "      <td></td>\n",
       "      <td></td>\n",
       "      <td></td>\n",
       "      <td>15.78</td>\n",
       "      <td>-90.23</td>\n",
       "      <td>918797</td>\n",
       "      <td>confirmed</td>\n",
       "      <td>2022-07-02 00:00:00+00:00</td>\n",
       "    </tr>\n",
       "    <tr>\n",
       "      <th>893</th>\n",
       "      <td>Guatemala</td>\n",
       "      <td>GT</td>\n",
       "      <td></td>\n",
       "      <td></td>\n",
       "      <td></td>\n",
       "      <td>15.78</td>\n",
       "      <td>-90.23</td>\n",
       "      <td>920294</td>\n",
       "      <td>confirmed</td>\n",
       "      <td>2022-07-03 00:00:00+00:00</td>\n",
       "    </tr>\n",
       "    <tr>\n",
       "      <th>894</th>\n",
       "      <td>Guatemala</td>\n",
       "      <td>GT</td>\n",
       "      <td></td>\n",
       "      <td></td>\n",
       "      <td></td>\n",
       "      <td>15.78</td>\n",
       "      <td>-90.23</td>\n",
       "      <td>921146</td>\n",
       "      <td>confirmed</td>\n",
       "      <td>2022-07-04 00:00:00+00:00</td>\n",
       "    </tr>\n",
       "    <tr>\n",
       "      <th>895</th>\n",
       "      <td>Guatemala</td>\n",
       "      <td>GT</td>\n",
       "      <td></td>\n",
       "      <td></td>\n",
       "      <td></td>\n",
       "      <td>15.78</td>\n",
       "      <td>-90.23</td>\n",
       "      <td>922340</td>\n",
       "      <td>confirmed</td>\n",
       "      <td>2022-07-05 00:00:00+00:00</td>\n",
       "    </tr>\n",
       "    <tr>\n",
       "      <th>896</th>\n",
       "      <td>Guatemala</td>\n",
       "      <td>GT</td>\n",
       "      <td></td>\n",
       "      <td></td>\n",
       "      <td></td>\n",
       "      <td>15.78</td>\n",
       "      <td>-90.23</td>\n",
       "      <td>927473</td>\n",
       "      <td>confirmed</td>\n",
       "      <td>2022-07-07 00:00:00+00:00</td>\n",
       "    </tr>\n",
       "  </tbody>\n",
       "</table>\n",
       "<p>897 rows × 10 columns</p>\n",
       "</div>"
      ],
      "text/plain": [
       "       Country CountryCode Province City CityCode    Lat    Lon   Cases  \\\n",
       "0    Guatemala          GT                         15.78 -90.23       0   \n",
       "1    Guatemala          GT                         15.78 -90.23       0   \n",
       "2    Guatemala          GT                         15.78 -90.23       0   \n",
       "3    Guatemala          GT                         15.78 -90.23       0   \n",
       "4    Guatemala          GT                         15.78 -90.23       0   \n",
       "..         ...         ...      ...  ...      ...    ...    ...     ...   \n",
       "892  Guatemala          GT                         15.78 -90.23  918797   \n",
       "893  Guatemala          GT                         15.78 -90.23  920294   \n",
       "894  Guatemala          GT                         15.78 -90.23  921146   \n",
       "895  Guatemala          GT                         15.78 -90.23  922340   \n",
       "896  Guatemala          GT                         15.78 -90.23  927473   \n",
       "\n",
       "        Status                      Date  \n",
       "0    confirmed 2020-01-22 00:00:00+00:00  \n",
       "1    confirmed 2020-01-23 00:00:00+00:00  \n",
       "2    confirmed 2020-01-24 00:00:00+00:00  \n",
       "3    confirmed 2020-01-25 00:00:00+00:00  \n",
       "4    confirmed 2020-01-26 00:00:00+00:00  \n",
       "..         ...                       ...  \n",
       "892  confirmed 2022-07-02 00:00:00+00:00  \n",
       "893  confirmed 2022-07-03 00:00:00+00:00  \n",
       "894  confirmed 2022-07-04 00:00:00+00:00  \n",
       "895  confirmed 2022-07-05 00:00:00+00:00  \n",
       "896  confirmed 2022-07-07 00:00:00+00:00  \n",
       "\n",
       "[897 rows x 10 columns]"
      ]
     },
     "execution_count": 50,
     "metadata": {},
     "output_type": "execute_result"
    }
   ],
   "source": [
    "url_rt_gt = 'https://api.covid19api.com/country/guatemala/status/confirmed/live'\n",
    "df_rt_gt = pd.read_json(url_rt_gt)\n",
    "df_rt_gt"
   ]
  },
  {
   "cell_type": "code",
   "execution_count": 51,
   "id": "1d360b82",
   "metadata": {},
   "outputs": [
    {
     "data": {
      "text/html": [
       "<div>\n",
       "<style scoped>\n",
       "    .dataframe tbody tr th:only-of-type {\n",
       "        vertical-align: middle;\n",
       "    }\n",
       "\n",
       "    .dataframe tbody tr th {\n",
       "        vertical-align: top;\n",
       "    }\n",
       "\n",
       "    .dataframe thead th {\n",
       "        text-align: right;\n",
       "    }\n",
       "</style>\n",
       "<table border=\"1\" class=\"dataframe\">\n",
       "  <thead>\n",
       "    <tr style=\"text-align: right;\">\n",
       "      <th></th>\n",
       "      <th>Country</th>\n",
       "      <th>CountryCode</th>\n",
       "      <th>Province</th>\n",
       "      <th>City</th>\n",
       "      <th>CityCode</th>\n",
       "      <th>Lat</th>\n",
       "      <th>Lon</th>\n",
       "      <th>Cases</th>\n",
       "      <th>Status</th>\n",
       "      <th>Date</th>\n",
       "    </tr>\n",
       "  </thead>\n",
       "  <tbody>\n",
       "    <tr>\n",
       "      <th>0</th>\n",
       "      <td>El Salvador</td>\n",
       "      <td>SV</td>\n",
       "      <td></td>\n",
       "      <td></td>\n",
       "      <td></td>\n",
       "      <td>13.79</td>\n",
       "      <td>-88.9</td>\n",
       "      <td>0</td>\n",
       "      <td>confirmed</td>\n",
       "      <td>2020-01-22 00:00:00+00:00</td>\n",
       "    </tr>\n",
       "    <tr>\n",
       "      <th>1</th>\n",
       "      <td>El Salvador</td>\n",
       "      <td>SV</td>\n",
       "      <td></td>\n",
       "      <td></td>\n",
       "      <td></td>\n",
       "      <td>13.79</td>\n",
       "      <td>-88.9</td>\n",
       "      <td>0</td>\n",
       "      <td>confirmed</td>\n",
       "      <td>2020-01-23 00:00:00+00:00</td>\n",
       "    </tr>\n",
       "    <tr>\n",
       "      <th>2</th>\n",
       "      <td>El Salvador</td>\n",
       "      <td>SV</td>\n",
       "      <td></td>\n",
       "      <td></td>\n",
       "      <td></td>\n",
       "      <td>13.79</td>\n",
       "      <td>-88.9</td>\n",
       "      <td>0</td>\n",
       "      <td>confirmed</td>\n",
       "      <td>2020-01-24 00:00:00+00:00</td>\n",
       "    </tr>\n",
       "    <tr>\n",
       "      <th>3</th>\n",
       "      <td>El Salvador</td>\n",
       "      <td>SV</td>\n",
       "      <td></td>\n",
       "      <td></td>\n",
       "      <td></td>\n",
       "      <td>13.79</td>\n",
       "      <td>-88.9</td>\n",
       "      <td>0</td>\n",
       "      <td>confirmed</td>\n",
       "      <td>2020-01-25 00:00:00+00:00</td>\n",
       "    </tr>\n",
       "    <tr>\n",
       "      <th>4</th>\n",
       "      <td>El Salvador</td>\n",
       "      <td>SV</td>\n",
       "      <td></td>\n",
       "      <td></td>\n",
       "      <td></td>\n",
       "      <td>13.79</td>\n",
       "      <td>-88.9</td>\n",
       "      <td>0</td>\n",
       "      <td>confirmed</td>\n",
       "      <td>2020-01-26 00:00:00+00:00</td>\n",
       "    </tr>\n",
       "    <tr>\n",
       "      <th>...</th>\n",
       "      <td>...</td>\n",
       "      <td>...</td>\n",
       "      <td>...</td>\n",
       "      <td>...</td>\n",
       "      <td>...</td>\n",
       "      <td>...</td>\n",
       "      <td>...</td>\n",
       "      <td>...</td>\n",
       "      <td>...</td>\n",
       "      <td>...</td>\n",
       "    </tr>\n",
       "    <tr>\n",
       "      <th>892</th>\n",
       "      <td>El Salvador</td>\n",
       "      <td>SV</td>\n",
       "      <td></td>\n",
       "      <td></td>\n",
       "      <td></td>\n",
       "      <td>13.79</td>\n",
       "      <td>-88.9</td>\n",
       "      <td>169646</td>\n",
       "      <td>confirmed</td>\n",
       "      <td>2022-07-02 00:00:00+00:00</td>\n",
       "    </tr>\n",
       "    <tr>\n",
       "      <th>893</th>\n",
       "      <td>El Salvador</td>\n",
       "      <td>SV</td>\n",
       "      <td></td>\n",
       "      <td></td>\n",
       "      <td></td>\n",
       "      <td>13.79</td>\n",
       "      <td>-88.9</td>\n",
       "      <td>169646</td>\n",
       "      <td>confirmed</td>\n",
       "      <td>2022-07-03 00:00:00+00:00</td>\n",
       "    </tr>\n",
       "    <tr>\n",
       "      <th>894</th>\n",
       "      <td>El Salvador</td>\n",
       "      <td>SV</td>\n",
       "      <td></td>\n",
       "      <td></td>\n",
       "      <td></td>\n",
       "      <td>13.79</td>\n",
       "      <td>-88.9</td>\n",
       "      <td>169646</td>\n",
       "      <td>confirmed</td>\n",
       "      <td>2022-07-04 00:00:00+00:00</td>\n",
       "    </tr>\n",
       "    <tr>\n",
       "      <th>895</th>\n",
       "      <td>El Salvador</td>\n",
       "      <td>SV</td>\n",
       "      <td></td>\n",
       "      <td></td>\n",
       "      <td></td>\n",
       "      <td>13.79</td>\n",
       "      <td>-88.9</td>\n",
       "      <td>169646</td>\n",
       "      <td>confirmed</td>\n",
       "      <td>2022-07-05 00:00:00+00:00</td>\n",
       "    </tr>\n",
       "    <tr>\n",
       "      <th>896</th>\n",
       "      <td>El Salvador</td>\n",
       "      <td>SV</td>\n",
       "      <td></td>\n",
       "      <td></td>\n",
       "      <td></td>\n",
       "      <td>13.79</td>\n",
       "      <td>-88.9</td>\n",
       "      <td>169646</td>\n",
       "      <td>confirmed</td>\n",
       "      <td>2022-07-07 00:00:00+00:00</td>\n",
       "    </tr>\n",
       "  </tbody>\n",
       "</table>\n",
       "<p>897 rows × 10 columns</p>\n",
       "</div>"
      ],
      "text/plain": [
       "         Country CountryCode Province City CityCode    Lat   Lon   Cases  \\\n",
       "0    El Salvador          SV                         13.79 -88.9       0   \n",
       "1    El Salvador          SV                         13.79 -88.9       0   \n",
       "2    El Salvador          SV                         13.79 -88.9       0   \n",
       "3    El Salvador          SV                         13.79 -88.9       0   \n",
       "4    El Salvador          SV                         13.79 -88.9       0   \n",
       "..           ...         ...      ...  ...      ...    ...   ...     ...   \n",
       "892  El Salvador          SV                         13.79 -88.9  169646   \n",
       "893  El Salvador          SV                         13.79 -88.9  169646   \n",
       "894  El Salvador          SV                         13.79 -88.9  169646   \n",
       "895  El Salvador          SV                         13.79 -88.9  169646   \n",
       "896  El Salvador          SV                         13.79 -88.9  169646   \n",
       "\n",
       "        Status                      Date  \n",
       "0    confirmed 2020-01-22 00:00:00+00:00  \n",
       "1    confirmed 2020-01-23 00:00:00+00:00  \n",
       "2    confirmed 2020-01-24 00:00:00+00:00  \n",
       "3    confirmed 2020-01-25 00:00:00+00:00  \n",
       "4    confirmed 2020-01-26 00:00:00+00:00  \n",
       "..         ...                       ...  \n",
       "892  confirmed 2022-07-02 00:00:00+00:00  \n",
       "893  confirmed 2022-07-03 00:00:00+00:00  \n",
       "894  confirmed 2022-07-04 00:00:00+00:00  \n",
       "895  confirmed 2022-07-05 00:00:00+00:00  \n",
       "896  confirmed 2022-07-07 00:00:00+00:00  \n",
       "\n",
       "[897 rows x 10 columns]"
      ]
     },
     "execution_count": 51,
     "metadata": {},
     "output_type": "execute_result"
    }
   ],
   "source": [
    "url_rt_sv = 'https://api.covid19api.com/country/el-salvador/status/confirmed/live'\n",
    "df_rt_sv = pd.read_json(url_rt_sv)\n",
    "df_rt_sv"
   ]
  },
  {
   "cell_type": "code",
   "execution_count": 52,
   "id": "90db6f41",
   "metadata": {},
   "outputs": [
    {
     "data": {
      "text/html": [
       "<div>\n",
       "<style scoped>\n",
       "    .dataframe tbody tr th:only-of-type {\n",
       "        vertical-align: middle;\n",
       "    }\n",
       "\n",
       "    .dataframe tbody tr th {\n",
       "        vertical-align: top;\n",
       "    }\n",
       "\n",
       "    .dataframe thead th {\n",
       "        text-align: right;\n",
       "    }\n",
       "</style>\n",
       "<table border=\"1\" class=\"dataframe\">\n",
       "  <thead>\n",
       "    <tr style=\"text-align: right;\">\n",
       "      <th></th>\n",
       "      <th>Country</th>\n",
       "      <th>CountryCode</th>\n",
       "      <th>Province</th>\n",
       "      <th>City</th>\n",
       "      <th>CityCode</th>\n",
       "      <th>Lat</th>\n",
       "      <th>Lon</th>\n",
       "      <th>Cases</th>\n",
       "      <th>Status</th>\n",
       "      <th>Date</th>\n",
       "    </tr>\n",
       "  </thead>\n",
       "  <tbody>\n",
       "    <tr>\n",
       "      <th>0</th>\n",
       "      <td>Honduras</td>\n",
       "      <td>HN</td>\n",
       "      <td></td>\n",
       "      <td></td>\n",
       "      <td></td>\n",
       "      <td>15.2</td>\n",
       "      <td>-86.24</td>\n",
       "      <td>0</td>\n",
       "      <td>confirmed</td>\n",
       "      <td>2020-01-22 00:00:00+00:00</td>\n",
       "    </tr>\n",
       "    <tr>\n",
       "      <th>1</th>\n",
       "      <td>Honduras</td>\n",
       "      <td>HN</td>\n",
       "      <td></td>\n",
       "      <td></td>\n",
       "      <td></td>\n",
       "      <td>15.2</td>\n",
       "      <td>-86.24</td>\n",
       "      <td>0</td>\n",
       "      <td>confirmed</td>\n",
       "      <td>2020-01-23 00:00:00+00:00</td>\n",
       "    </tr>\n",
       "    <tr>\n",
       "      <th>2</th>\n",
       "      <td>Honduras</td>\n",
       "      <td>HN</td>\n",
       "      <td></td>\n",
       "      <td></td>\n",
       "      <td></td>\n",
       "      <td>15.2</td>\n",
       "      <td>-86.24</td>\n",
       "      <td>0</td>\n",
       "      <td>confirmed</td>\n",
       "      <td>2020-01-24 00:00:00+00:00</td>\n",
       "    </tr>\n",
       "    <tr>\n",
       "      <th>3</th>\n",
       "      <td>Honduras</td>\n",
       "      <td>HN</td>\n",
       "      <td></td>\n",
       "      <td></td>\n",
       "      <td></td>\n",
       "      <td>15.2</td>\n",
       "      <td>-86.24</td>\n",
       "      <td>0</td>\n",
       "      <td>confirmed</td>\n",
       "      <td>2020-01-25 00:00:00+00:00</td>\n",
       "    </tr>\n",
       "    <tr>\n",
       "      <th>4</th>\n",
       "      <td>Honduras</td>\n",
       "      <td>HN</td>\n",
       "      <td></td>\n",
       "      <td></td>\n",
       "      <td></td>\n",
       "      <td>15.2</td>\n",
       "      <td>-86.24</td>\n",
       "      <td>0</td>\n",
       "      <td>confirmed</td>\n",
       "      <td>2020-01-26 00:00:00+00:00</td>\n",
       "    </tr>\n",
       "    <tr>\n",
       "      <th>...</th>\n",
       "      <td>...</td>\n",
       "      <td>...</td>\n",
       "      <td>...</td>\n",
       "      <td>...</td>\n",
       "      <td>...</td>\n",
       "      <td>...</td>\n",
       "      <td>...</td>\n",
       "      <td>...</td>\n",
       "      <td>...</td>\n",
       "      <td>...</td>\n",
       "    </tr>\n",
       "    <tr>\n",
       "      <th>892</th>\n",
       "      <td>Honduras</td>\n",
       "      <td>HN</td>\n",
       "      <td></td>\n",
       "      <td></td>\n",
       "      <td></td>\n",
       "      <td>15.2</td>\n",
       "      <td>-86.24</td>\n",
       "      <td>427718</td>\n",
       "      <td>confirmed</td>\n",
       "      <td>2022-07-02 00:00:00+00:00</td>\n",
       "    </tr>\n",
       "    <tr>\n",
       "      <th>893</th>\n",
       "      <td>Honduras</td>\n",
       "      <td>HN</td>\n",
       "      <td></td>\n",
       "      <td></td>\n",
       "      <td></td>\n",
       "      <td>15.2</td>\n",
       "      <td>-86.24</td>\n",
       "      <td>427718</td>\n",
       "      <td>confirmed</td>\n",
       "      <td>2022-07-03 00:00:00+00:00</td>\n",
       "    </tr>\n",
       "    <tr>\n",
       "      <th>894</th>\n",
       "      <td>Honduras</td>\n",
       "      <td>HN</td>\n",
       "      <td></td>\n",
       "      <td></td>\n",
       "      <td></td>\n",
       "      <td>15.2</td>\n",
       "      <td>-86.24</td>\n",
       "      <td>427718</td>\n",
       "      <td>confirmed</td>\n",
       "      <td>2022-07-04 00:00:00+00:00</td>\n",
       "    </tr>\n",
       "    <tr>\n",
       "      <th>895</th>\n",
       "      <td>Honduras</td>\n",
       "      <td>HN</td>\n",
       "      <td></td>\n",
       "      <td></td>\n",
       "      <td></td>\n",
       "      <td>15.2</td>\n",
       "      <td>-86.24</td>\n",
       "      <td>427718</td>\n",
       "      <td>confirmed</td>\n",
       "      <td>2022-07-05 00:00:00+00:00</td>\n",
       "    </tr>\n",
       "    <tr>\n",
       "      <th>896</th>\n",
       "      <td>Honduras</td>\n",
       "      <td>HN</td>\n",
       "      <td></td>\n",
       "      <td></td>\n",
       "      <td></td>\n",
       "      <td>15.2</td>\n",
       "      <td>-86.24</td>\n",
       "      <td>427718</td>\n",
       "      <td>confirmed</td>\n",
       "      <td>2022-07-07 00:00:00+00:00</td>\n",
       "    </tr>\n",
       "  </tbody>\n",
       "</table>\n",
       "<p>897 rows × 10 columns</p>\n",
       "</div>"
      ],
      "text/plain": [
       "      Country CountryCode Province City CityCode   Lat    Lon   Cases  \\\n",
       "0    Honduras          HN                         15.2 -86.24       0   \n",
       "1    Honduras          HN                         15.2 -86.24       0   \n",
       "2    Honduras          HN                         15.2 -86.24       0   \n",
       "3    Honduras          HN                         15.2 -86.24       0   \n",
       "4    Honduras          HN                         15.2 -86.24       0   \n",
       "..        ...         ...      ...  ...      ...   ...    ...     ...   \n",
       "892  Honduras          HN                         15.2 -86.24  427718   \n",
       "893  Honduras          HN                         15.2 -86.24  427718   \n",
       "894  Honduras          HN                         15.2 -86.24  427718   \n",
       "895  Honduras          HN                         15.2 -86.24  427718   \n",
       "896  Honduras          HN                         15.2 -86.24  427718   \n",
       "\n",
       "        Status                      Date  \n",
       "0    confirmed 2020-01-22 00:00:00+00:00  \n",
       "1    confirmed 2020-01-23 00:00:00+00:00  \n",
       "2    confirmed 2020-01-24 00:00:00+00:00  \n",
       "3    confirmed 2020-01-25 00:00:00+00:00  \n",
       "4    confirmed 2020-01-26 00:00:00+00:00  \n",
       "..         ...                       ...  \n",
       "892  confirmed 2022-07-02 00:00:00+00:00  \n",
       "893  confirmed 2022-07-03 00:00:00+00:00  \n",
       "894  confirmed 2022-07-04 00:00:00+00:00  \n",
       "895  confirmed 2022-07-05 00:00:00+00:00  \n",
       "896  confirmed 2022-07-07 00:00:00+00:00  \n",
       "\n",
       "[897 rows x 10 columns]"
      ]
     },
     "execution_count": 52,
     "metadata": {},
     "output_type": "execute_result"
    }
   ],
   "source": [
    "url_rt_hn = 'https://api.covid19api.com/country/honduras/status/confirmed/live'\n",
    "df_rt_hn = pd.read_json(url_rt_hn)\n",
    "df_rt_hn"
   ]
  },
  {
   "cell_type": "markdown",
   "id": "daae585a",
   "metadata": {},
   "source": [
    "Elijo para cada una de las tablas los casos por fecha y ploteo la gráfica."
   ]
  },
  {
   "cell_type": "code",
   "execution_count": 53,
   "id": "45c483aa",
   "metadata": {},
   "outputs": [
    {
     "data": {
      "text/plain": [
       "<AxesSubplot:title={'center':'Casos de Covid-19 en Panamá'}, xlabel='Date'>"
      ]
     },
     "execution_count": 53,
     "metadata": {},
     "output_type": "execute_result"
    },
    {
     "data": {
      "image/png": "[encoded data removed]",
      "text/plain": [
       "<Figure size 432x288 with 1 Axes>"
      ]
     },
     "metadata": {
      "needs_background": "light"
     },
     "output_type": "display_data"
    }
   ],
   "source": [
    "casos_pa = df_rt_pa.set_index('Date')['Cases']\n",
    "casos_pa.plot(title=\"Casos de Covid-19 en Panamá\")"
   ]
  },
  {
   "cell_type": "code",
   "execution_count": 54,
   "id": "1d304a69",
   "metadata": {},
   "outputs": [
    {
     "data": {
      "text/plain": [
       "<AxesSubplot:title={'center':'Casos de Covid-19 en Costa Rica'}, xlabel='Date'>"
      ]
     },
     "execution_count": 54,
     "metadata": {},
     "output_type": "execute_result"
    },
    {
     "data": {
      "image/png": "[encoded data removed]",
      "text/plain": [
       "<Figure size 432x288 with 1 Axes>"
      ]
     },
     "metadata": {
      "needs_background": "light"
     },
     "output_type": "display_data"
    }
   ],
   "source": [
    "casos_cr = df_rt_cr.set_index('Date')['Cases']\n",
    "casos_cr.plot(title=\"Casos de Covid-19 en Costa Rica\")"
   ]
  },
  {
   "cell_type": "code",
   "execution_count": 55,
   "id": "ffb4d81b",
   "metadata": {},
   "outputs": [
    {
     "data": {
      "text/plain": [
       "<AxesSubplot:title={'center':'Casos de Covid-19 en Nicaragua'}, xlabel='Date'>"
      ]
     },
     "execution_count": 55,
     "metadata": {},
     "output_type": "execute_result"
    },
    {
     "data": {
      "image/png": "[encoded data removed]",
      "text/plain": [
       "<Figure size 432x288 with 1 Axes>"
      ]
     },
     "metadata": {
      "needs_background": "light"
     },
     "output_type": "display_data"
    }
   ],
   "source": [
    "casos_ni = df_rt_ni.set_index('Date')['Cases']\n",
    "casos_ni.plot(title=\"Casos de Covid-19 en Nicaragua\")"
   ]
  },
  {
   "cell_type": "code",
   "execution_count": 56,
   "id": "1a23e6d4",
   "metadata": {},
   "outputs": [
    {
     "data": {
      "text/plain": [
       "<AxesSubplot:title={'center':'Casos de Covid-19 en Guatemala'}, xlabel='Date'>"
      ]
     },
     "execution_count": 56,
     "metadata": {},
     "output_type": "execute_result"
    },
    {
     "data": {
      "image/png": "[encoded data removed]",
      "text/plain": [
       "<Figure size 432x288 with 1 Axes>"
      ]
     },
     "metadata": {
      "needs_background": "light"
     },
     "output_type": "display_data"
    }
   ],
   "source": [
    "casos_gt = df_rt_gt.set_index('Date')['Cases']\n",
    "casos_gt.plot(title=\"Casos de Covid-19 en Guatemala\")"
   ]
  },
  {
   "cell_type": "code",
   "execution_count": 57,
   "id": "74a565af",
   "metadata": {},
   "outputs": [
    {
     "data": {
      "text/plain": [
       "<AxesSubplot:title={'center':'Casos de Covid-19 en El Salvador'}, xlabel='Date'>"
      ]
     },
     "execution_count": 57,
     "metadata": {},
     "output_type": "execute_result"
    },
    {
     "data": {
      "image/png": "[encoded data removed]",
      "text/plain": [
       "<Figure size 432x288 with 1 Axes>"
      ]
     },
     "metadata": {
      "needs_background": "light"
     },
     "output_type": "display_data"
    }
   ],
   "source": [
    "casos_sv = df_rt_sv.set_index('Date')['Cases']\n",
    "casos_sv.plot(title=\"Casos de Covid-19 en El Salvador\")"
   ]
  },
  {
   "cell_type": "code",
   "execution_count": 58,
   "id": "0df3d8a5",
   "metadata": {},
   "outputs": [
    {
     "data": {
      "text/plain": [
       "<AxesSubplot:title={'center':'Casos de Covid-19 en Honduras'}, xlabel='Date'>"
      ]
     },
     "execution_count": 58,
     "metadata": {},
     "output_type": "execute_result"
    },
    {
     "data": {
      "image/png": "[encoded data removed]",
      "text/plain": [
       "<Figure size 432x288 with 1 Axes>"
      ]
     },
     "metadata": {
      "needs_background": "light"
     },
     "output_type": "display_data"
    }
   ],
   "source": [
    "casos_hn = df_rt_hn.set_index('Date')['Cases']\n",
    "casos_hn.plot(title=\"Casos de Covid-19 en Honduras\")"
   ]
  },
  {
   "cell_type": "markdown",
   "id": "0ac603b4",
   "metadata": {},
   "source": [
    "Enlazo todas las tablas previas y las nombro por cada uno de los países a los que pertenecen las columnas."
   ]
  },
  {
   "cell_type": "code",
   "execution_count": 59,
   "id": "f20a8762",
   "metadata": {},
   "outputs": [
    {
     "data": {
      "text/html": [
       "<div>\n",
       "<style scoped>\n",
       "    .dataframe tbody tr th:only-of-type {\n",
       "        vertical-align: middle;\n",
       "    }\n",
       "\n",
       "    .dataframe tbody tr th {\n",
       "        vertical-align: top;\n",
       "    }\n",
       "\n",
       "    .dataframe thead th {\n",
       "        text-align: right;\n",
       "    }\n",
       "</style>\n",
       "<table border=\"1\" class=\"dataframe\">\n",
       "  <thead>\n",
       "    <tr style=\"text-align: right;\">\n",
       "      <th></th>\n",
       "      <th>Panamá</th>\n",
       "      <th>Costa Rica</th>\n",
       "      <th>Nicaragua</th>\n",
       "      <th>Guatemala</th>\n",
       "      <th>El Salvador</th>\n",
       "      <th>Honduras</th>\n",
       "    </tr>\n",
       "    <tr>\n",
       "      <th>Date</th>\n",
       "      <th></th>\n",
       "      <th></th>\n",
       "      <th></th>\n",
       "      <th></th>\n",
       "      <th></th>\n",
       "      <th></th>\n",
       "    </tr>\n",
       "  </thead>\n",
       "  <tbody>\n",
       "    <tr>\n",
       "      <th>2020-01-22 00:00:00+00:00</th>\n",
       "      <td>0</td>\n",
       "      <td>0</td>\n",
       "      <td>0</td>\n",
       "      <td>0</td>\n",
       "      <td>0</td>\n",
       "      <td>0</td>\n",
       "    </tr>\n",
       "    <tr>\n",
       "      <th>2020-01-23 00:00:00+00:00</th>\n",
       "      <td>0</td>\n",
       "      <td>0</td>\n",
       "      <td>0</td>\n",
       "      <td>0</td>\n",
       "      <td>0</td>\n",
       "      <td>0</td>\n",
       "    </tr>\n",
       "    <tr>\n",
       "      <th>2020-01-24 00:00:00+00:00</th>\n",
       "      <td>0</td>\n",
       "      <td>0</td>\n",
       "      <td>0</td>\n",
       "      <td>0</td>\n",
       "      <td>0</td>\n",
       "      <td>0</td>\n",
       "    </tr>\n",
       "    <tr>\n",
       "      <th>2020-01-25 00:00:00+00:00</th>\n",
       "      <td>0</td>\n",
       "      <td>0</td>\n",
       "      <td>0</td>\n",
       "      <td>0</td>\n",
       "      <td>0</td>\n",
       "      <td>0</td>\n",
       "    </tr>\n",
       "    <tr>\n",
       "      <th>2020-01-26 00:00:00+00:00</th>\n",
       "      <td>0</td>\n",
       "      <td>0</td>\n",
       "      <td>0</td>\n",
       "      <td>0</td>\n",
       "      <td>0</td>\n",
       "      <td>0</td>\n",
       "    </tr>\n",
       "    <tr>\n",
       "      <th>...</th>\n",
       "      <td>...</td>\n",
       "      <td>...</td>\n",
       "      <td>...</td>\n",
       "      <td>...</td>\n",
       "      <td>...</td>\n",
       "      <td>...</td>\n",
       "    </tr>\n",
       "    <tr>\n",
       "      <th>2022-07-02 00:00:00+00:00</th>\n",
       "      <td>922990</td>\n",
       "      <td>904934</td>\n",
       "      <td>14690</td>\n",
       "      <td>918797</td>\n",
       "      <td>169646</td>\n",
       "      <td>427718</td>\n",
       "    </tr>\n",
       "    <tr>\n",
       "      <th>2022-07-03 00:00:00+00:00</th>\n",
       "      <td>925254</td>\n",
       "      <td>904934</td>\n",
       "      <td>14690</td>\n",
       "      <td>920294</td>\n",
       "      <td>169646</td>\n",
       "      <td>427718</td>\n",
       "    </tr>\n",
       "    <tr>\n",
       "      <th>2022-07-04 00:00:00+00:00</th>\n",
       "      <td>925254</td>\n",
       "      <td>904934</td>\n",
       "      <td>14690</td>\n",
       "      <td>921146</td>\n",
       "      <td>169646</td>\n",
       "      <td>427718</td>\n",
       "    </tr>\n",
       "    <tr>\n",
       "      <th>2022-07-05 00:00:00+00:00</th>\n",
       "      <td>925254</td>\n",
       "      <td>904934</td>\n",
       "      <td>14690</td>\n",
       "      <td>922340</td>\n",
       "      <td>169646</td>\n",
       "      <td>427718</td>\n",
       "    </tr>\n",
       "    <tr>\n",
       "      <th>2022-07-07 00:00:00+00:00</th>\n",
       "      <td>925254</td>\n",
       "      <td>904934</td>\n",
       "      <td>14721</td>\n",
       "      <td>927473</td>\n",
       "      <td>169646</td>\n",
       "      <td>427718</td>\n",
       "    </tr>\n",
       "  </tbody>\n",
       "</table>\n",
       "<p>897 rows × 6 columns</p>\n",
       "</div>"
      ],
      "text/plain": [
       "                           Panamá  Costa Rica  Nicaragua  Guatemala  \\\n",
       "Date                                                                  \n",
       "2020-01-22 00:00:00+00:00       0           0          0          0   \n",
       "2020-01-23 00:00:00+00:00       0           0          0          0   \n",
       "2020-01-24 00:00:00+00:00       0           0          0          0   \n",
       "2020-01-25 00:00:00+00:00       0           0          0          0   \n",
       "2020-01-26 00:00:00+00:00       0           0          0          0   \n",
       "...                           ...         ...        ...        ...   \n",
       "2022-07-02 00:00:00+00:00  922990      904934      14690     918797   \n",
       "2022-07-03 00:00:00+00:00  925254      904934      14690     920294   \n",
       "2022-07-04 00:00:00+00:00  925254      904934      14690     921146   \n",
       "2022-07-05 00:00:00+00:00  925254      904934      14690     922340   \n",
       "2022-07-07 00:00:00+00:00  925254      904934      14721     927473   \n",
       "\n",
       "                           El Salvador  Honduras  \n",
       "Date                                              \n",
       "2020-01-22 00:00:00+00:00            0         0  \n",
       "2020-01-23 00:00:00+00:00            0         0  \n",
       "2020-01-24 00:00:00+00:00            0         0  \n",
       "2020-01-25 00:00:00+00:00            0         0  \n",
       "2020-01-26 00:00:00+00:00            0         0  \n",
       "...                                ...       ...  \n",
       "2022-07-02 00:00:00+00:00       169646    427718  \n",
       "2022-07-03 00:00:00+00:00       169646    427718  \n",
       "2022-07-04 00:00:00+00:00       169646    427718  \n",
       "2022-07-05 00:00:00+00:00       169646    427718  \n",
       "2022-07-07 00:00:00+00:00       169646    427718  \n",
       "\n",
       "[897 rows x 6 columns]"
      ]
     },
     "execution_count": 59,
     "metadata": {},
     "output_type": "execute_result"
    }
   ],
   "source": [
    "casos_pa_cr_ni_gt_sv_hn = pd.concat([casos_pa,casos_cr,casos_ni,casos_gt,casos_sv,casos_hn],axis=1)\n",
    "casos_pa_cr_ni_gt_sv_hn.columns= ['Panamá','Costa Rica', 'Nicaragua', 'Guatemala', 'El Salvador', 'Honduras']\n",
    "casos_pa_cr_ni_gt_sv_hn"
   ]
  },
  {
   "cell_type": "markdown",
   "id": "5bfd734f",
   "metadata": {},
   "source": [
    "Luego ploteo para visualizar la gráfica comparativa."
   ]
  },
  {
   "cell_type": "code",
   "execution_count": 60,
   "id": "4913d0cb",
   "metadata": {},
   "outputs": [
    {
     "data": {
      "text/plain": [
       "<AxesSubplot:title={'center':'Comparativa Covid-19 en los países de Centroamérica'}, xlabel='Date'>"
      ]
     },
     "execution_count": 60,
     "metadata": {},
     "output_type": "execute_result"
    },
    {
     "data": {
      "image/png": "[encoded data removed]",
      "text/plain": [
       "<Figure size 432x288 with 1 Axes>"
      ]
     },
     "metadata": {
      "needs_background": "light"
     },
     "output_type": "display_data"
    }
   ],
   "source": [
    "casos_pa_cr_ni_gt_sv_hn.plot(title=\"Comparativa Covid-19 en los países de Centroamérica\")"
   ]
  },
  {
   "cell_type": "markdown",
   "id": "d5eb3f06",
   "metadata": {},
   "source": [
    "Para comcluir, exporto la tabla en CSV y la gráfica en formato vectorial para web (SVG)."
   ]
  },
  {
   "cell_type": "code",
   "execution_count": 61,
   "id": "11c3b24b",
   "metadata": {},
   "outputs": [
    {
     "name": "stdout",
     "output_type": "stream",
     "text": [
      " El volumen de la unidad C es Windows\n",
      " El n£mero de serie del volumen es: 14F5-C7E9\n",
      "\n",
      " Directorio de C:\\Users\\Cecilio Salda¤a\\csaldanag-web\n",
      "\n",
      "07/06/2022  10:13 p. m.    <DIR>          .\n",
      "07/06/2022  10:13 p. m.    <DIR>          ..\n",
      "07/05/2022  11:51 p. m.    <DIR>          .ipynb_checkpoints\n",
      "06/27/2022  11:57 p. m.             2,114 ad1.md\n",
      "07/01/2022  11:33 p. m.             2,939 AD2.md\n",
      "07/01/2022  10:18 p. m.            25,090 ad3.ipynb\n",
      "07/06/2022  10:11 p. m.           380,669 ad4.ipynb\n",
      "07/06/2022  12:00 a. m.            17,758 ad4.md\n",
      "07/06/2022  10:13 p. m.            56,543 casos_pa_cr_ni_gt_sv_hn.csv\n",
      "07/06/2022  12:00 a. m.            14,115 output_22_0.png\n",
      "07/06/2022  12:00 a. m.            14,864 output_30_0.png\n",
      "07/06/2022  12:00 a. m.            13,971 output_32_0.png\n",
      "07/06/2022  12:00 a. m.            13,784 output_33_0.png\n",
      "07/06/2022  09:58 p. m.            38,587 pa_vs_cr.csv\n",
      "07/06/2022  09:59 p. m.            14,309 pa_vs_es.png\n",
      "07/06/2022  09:59 p. m.            37,156 pa_vs_es.svg\n",
      "07/06/2022  12:17 a. m.               580 README.md\n",
      "              14 archivos        632,479 bytes\n",
      "               3 dirs  44,095,283,200 bytes libres\n"
     ]
    }
   ],
   "source": [
    "casos_pa_cr_ni_gt_sv_hn.to_csv('casos_pa_cr_ni_gt_sv_hn.csv')\n",
    "%ls"
   ]
  },
  {
   "cell_type": "code",
   "execution_count": 62,
   "id": "86c6791b",
   "metadata": {},
   "outputs": [
    {
     "name": "stdout",
     "output_type": "stream",
     "text": [
      " El volumen de la unidad C es Windows\n",
      " El n£mero de serie del volumen es: 14F5-C7E9\n",
      "\n",
      " Directorio de C:\\Users\\Cecilio Salda¤a\\csaldanag-web\n",
      "\n",
      "07/06/2022  10:13 p. m.    <DIR>          .\n",
      "07/06/2022  10:13 p. m.    <DIR>          ..\n",
      "07/05/2022  11:51 p. m.    <DIR>          .ipynb_checkpoints\n",
      "06/27/2022  11:57 p. m.             2,114 ad1.md\n",
      "07/01/2022  11:33 p. m.             2,939 AD2.md\n",
      "07/01/2022  10:18 p. m.            25,090 ad3.ipynb\n",
      "07/06/2022  10:11 p. m.           380,669 ad4.ipynb\n",
      "07/06/2022  12:00 a. m.            17,758 ad4.md\n",
      "07/06/2022  10:13 p. m.            56,543 casos_pa_cr_ni_gt_sv_hn.csv\n",
      "07/06/2022  10:13 p. m.            65,601 casos_pa_cr_ni_gt_sv_hn.svg\n",
      "07/06/2022  12:00 a. m.            14,115 output_22_0.png\n",
      "07/06/2022  12:00 a. m.            14,864 output_30_0.png\n",
      "07/06/2022  12:00 a. m.            13,971 output_32_0.png\n",
      "07/06/2022  12:00 a. m.            13,784 output_33_0.png\n",
      "07/06/2022  09:58 p. m.            38,587 pa_vs_cr.csv\n",
      "07/06/2022  09:59 p. m.            14,309 pa_vs_es.png\n",
      "07/06/2022  09:59 p. m.            37,156 pa_vs_es.svg\n",
      "07/06/2022  12:17 a. m.               580 README.md\n",
      "              15 archivos        698,080 bytes\n",
      "               3 dirs  44,095,213,568 bytes libres\n"
     ]
    },
    {
     "data": {
      "image/png": "[encoded data removed]",
      "text/plain": [
       "<Figure size 432x288 with 1 Axes>"
      ]
     },
     "metadata": {
      "needs_background": "light"
     },
     "output_type": "display_data"
    }
   ],
   "source": [
    "casos_pa_cr_ni_gt_sv_hn.plot(title=\"Centroamérica\")\n",
    "plt.savefig(\"casos_pa_cr_ni_gt_sv_hn.svg\", format=\"svg\")\n",
    "%ls"
   ]
  },
  {
   "cell_type": "code",
   "execution_count": null,
   "id": "c02e0494",
   "metadata": {},
   "outputs": [],
   "source": []
  }
 ],
 "metadata": {
  "kernelspec": {
   "display_name": "Python 3 (ipykernel)",
   "language": "python",
   "name": "python3"
  },
  "language_info": {
   "codemirror_mode": {
    "name": "ipython",
    "version": 3
   },
   "file_extension": ".py",
   "mimetype": "text/x-python",
   "name": "python",
   "nbconvert_exporter": "python",
   "pygments_lexer": "ipython3",
   "version": "3.9.12"
  }
 },
 "nbformat": 4,
 "nbformat_minor": 5
}
