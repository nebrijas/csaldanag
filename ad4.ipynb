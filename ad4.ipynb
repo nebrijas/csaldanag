{
 "cells": [
  {
   "cell_type": "markdown",
   "id": "70df6b77",
   "metadata": {},
   "source": [
    "# AD3: conexión con la API del COVID-19 y análisis con Pandas #\n"
   ]
  },
  {
   "cell_type": "markdown",
   "id": "473ba378",
   "metadata": {},
   "source": [
    "Me conectó a la API https://covid19api.com/"
   ]
  },
  {
   "cell_type": "markdown",
   "id": "f6d55c0f",
   "metadata": {},
   "source": [
    "## Instalación e importación de Pandas ##"
   ]
  },
  {
   "cell_type": "code",
   "execution_count": 1,
   "id": "8e8e40a0",
   "metadata": {},
   "outputs": [
    {
     "name": "stdout",
     "output_type": "stream",
     "text": [
      "Requirement already satisfied: pandas in f:\\anaconda\\lib\\site-packages (1.4.2)\n",
      "Requirement already satisfied: pytz>=2020.1 in f:\\anaconda\\lib\\site-packages (from pandas) (2021.3)\n",
      "Requirement already satisfied: python-dateutil>=2.8.1 in f:\\anaconda\\lib\\site-packages (from pandas) (2.8.2)\n",
      "Requirement already satisfied: numpy>=1.18.5 in f:\\anaconda\\lib\\site-packages (from pandas) (1.21.5)\n",
      "Requirement already satisfied: six>=1.5 in f:\\anaconda\\lib\\site-packages (from python-dateutil>=2.8.1->pandas) (1.16.0)\n"
     ]
    }
   ],
   "source": [
    "!pip install pandas"
   ]
  },
  {
   "cell_type": "markdown",
   "id": "42a4a24e",
   "metadata": {},
   "source": [
    "## Configuaración de Pandas ##"
   ]
  },
  {
   "cell_type": "code",
   "execution_count": 5,
   "id": "01908a4b",
   "metadata": {},
   "outputs": [],
   "source": [
    "import pandas as pd"
   ]
  },
  {
   "cell_type": "markdown",
   "id": "c8189c82",
   "metadata": {},
   "source": [
    "## Variables ##"
   ]
  },
  {
   "cell_type": "markdown",
   "id": "d8202091",
   "metadata": {},
   "source": [
    "Variable de nombre url para hacer llamado a la lista de diccionarios de países de la API del Covid-19. "
   ]
  },
  {
   "cell_type": "code",
   "execution_count": 6,
   "id": "bb0d9d4b",
   "metadata": {},
   "outputs": [],
   "source": [
    "url = 'https://api.covid19api.com/countries'"
   ]
  },
  {
   "cell_type": "code",
   "execution_count": 7,
   "id": "0d860437",
   "metadata": {},
   "outputs": [
    {
     "data": {
      "text/plain": [
       "'https://api.covid19api.com/countries'"
      ]
     },
     "execution_count": 7,
     "metadata": {},
     "output_type": "execute_result"
    }
   ],
   "source": [
    "url"
   ]
  },
  {
   "cell_type": "markdown",
   "id": "b9fc7356",
   "metadata": {},
   "source": [
    "agrego una variable para la función <code>pd.read_json para la variable anterior</code>.\n",
    "\n",
    "df = pd.read_json <code>`https://api.covid19api.com/countries`</code>\n",
    "\n",
    "Se hace a través de variable para facilitar su uso posterior con código más breve.\n",
    "\n",
    "Luego halo el datajson para ver si ha funcionado la importación, lo que muestra una tabla en la que hay 248 elementos. En este caso empieza a contar en 0 por tratarse de json.\n",
    "\n",
    "Este código nos muestra un resumen con las filas del inicio y las del final."
   ]
  },
  {
   "cell_type": "code",
   "execution_count": 9,
   "id": "b2bc5b39",
   "metadata": {},
   "outputs": [],
   "source": [
    "df = pd.read_json(url)"
   ]
  },
  {
   "cell_type": "code",
   "execution_count": 10,
   "id": "5b91c421",
   "metadata": {},
   "outputs": [
    {
     "data": {
      "text/html": [
       "<div>\n",
       "<style scoped>\n",
       "    .dataframe tbody tr th:only-of-type {\n",
       "        vertical-align: middle;\n",
       "    }\n",
       "\n",
       "    .dataframe tbody tr th {\n",
       "        vertical-align: top;\n",
       "    }\n",
       "\n",
       "    .dataframe thead th {\n",
       "        text-align: right;\n",
       "    }\n",
       "</style>\n",
       "<table border=\"1\" class=\"dataframe\">\n",
       "  <thead>\n",
       "    <tr style=\"text-align: right;\">\n",
       "      <th></th>\n",
       "      <th>Country</th>\n",
       "      <th>Slug</th>\n",
       "      <th>ISO2</th>\n",
       "    </tr>\n",
       "  </thead>\n",
       "  <tbody>\n",
       "    <tr>\n",
       "      <th>0</th>\n",
       "      <td>Gibraltar</td>\n",
       "      <td>gibraltar</td>\n",
       "      <td>GI</td>\n",
       "    </tr>\n",
       "    <tr>\n",
       "      <th>1</th>\n",
       "      <td>Oman</td>\n",
       "      <td>oman</td>\n",
       "      <td>OM</td>\n",
       "    </tr>\n",
       "    <tr>\n",
       "      <th>2</th>\n",
       "      <td>France</td>\n",
       "      <td>france</td>\n",
       "      <td>FR</td>\n",
       "    </tr>\n",
       "    <tr>\n",
       "      <th>3</th>\n",
       "      <td>Jersey</td>\n",
       "      <td>jersey</td>\n",
       "      <td>JE</td>\n",
       "    </tr>\n",
       "    <tr>\n",
       "      <th>4</th>\n",
       "      <td>Mali</td>\n",
       "      <td>mali</td>\n",
       "      <td>ML</td>\n",
       "    </tr>\n",
       "    <tr>\n",
       "      <th>...</th>\n",
       "      <td>...</td>\n",
       "      <td>...</td>\n",
       "      <td>...</td>\n",
       "    </tr>\n",
       "    <tr>\n",
       "      <th>243</th>\n",
       "      <td>Puerto Rico</td>\n",
       "      <td>puerto-rico</td>\n",
       "      <td>PR</td>\n",
       "    </tr>\n",
       "    <tr>\n",
       "      <th>244</th>\n",
       "      <td>Papua New Guinea</td>\n",
       "      <td>papua-new-guinea</td>\n",
       "      <td>PG</td>\n",
       "    </tr>\n",
       "    <tr>\n",
       "      <th>245</th>\n",
       "      <td>Saint Pierre and Miquelon</td>\n",
       "      <td>saint-pierre-and-miquelon</td>\n",
       "      <td>PM</td>\n",
       "    </tr>\n",
       "    <tr>\n",
       "      <th>246</th>\n",
       "      <td>Timor-Leste</td>\n",
       "      <td>timor-leste</td>\n",
       "      <td>TL</td>\n",
       "    </tr>\n",
       "    <tr>\n",
       "      <th>247</th>\n",
       "      <td>Montenegro</td>\n",
       "      <td>montenegro</td>\n",
       "      <td>ME</td>\n",
       "    </tr>\n",
       "  </tbody>\n",
       "</table>\n",
       "<p>248 rows × 3 columns</p>\n",
       "</div>"
      ],
      "text/plain": [
       "                       Country                       Slug ISO2\n",
       "0                    Gibraltar                  gibraltar   GI\n",
       "1                         Oman                       oman   OM\n",
       "2                       France                     france   FR\n",
       "3                       Jersey                     jersey   JE\n",
       "4                         Mali                       mali   ML\n",
       "..                         ...                        ...  ...\n",
       "243                Puerto Rico                puerto-rico   PR\n",
       "244           Papua New Guinea           papua-new-guinea   PG\n",
       "245  Saint Pierre and Miquelon  saint-pierre-and-miquelon   PM\n",
       "246                Timor-Leste                timor-leste   TL\n",
       "247                 Montenegro                 montenegro   ME\n",
       "\n",
       "[248 rows x 3 columns]"
      ]
     },
     "execution_count": 10,
     "metadata": {},
     "output_type": "execute_result"
    }
   ],
   "source": [
    "df"
   ]
  },
  {
   "cell_type": "markdown",
   "id": "5fd82ede",
   "metadata": {},
   "source": [
    "Para ver los datos de España, ya que tengo una columna de países, hago una lista nueva que seleccione solo los identificadores similares a Spain."
   ]
  },
  {
   "cell_type": "code",
   "execution_count": 11,
   "id": "9e325685",
   "metadata": {},
   "outputs": [
    {
     "data": {
      "text/html": [
       "<div>\n",
       "<style scoped>\n",
       "    .dataframe tbody tr th:only-of-type {\n",
       "        vertical-align: middle;\n",
       "    }\n",
       "\n",
       "    .dataframe tbody tr th {\n",
       "        vertical-align: top;\n",
       "    }\n",
       "\n",
       "    .dataframe thead th {\n",
       "        text-align: right;\n",
       "    }\n",
       "</style>\n",
       "<table border=\"1\" class=\"dataframe\">\n",
       "  <thead>\n",
       "    <tr style=\"text-align: right;\">\n",
       "      <th></th>\n",
       "      <th>Country</th>\n",
       "      <th>Slug</th>\n",
       "      <th>ISO2</th>\n",
       "    </tr>\n",
       "  </thead>\n",
       "  <tbody>\n",
       "    <tr>\n",
       "      <th>141</th>\n",
       "      <td>Spain</td>\n",
       "      <td>spain</td>\n",
       "      <td>ES</td>\n",
       "    </tr>\n",
       "  </tbody>\n",
       "</table>\n",
       "</div>"
      ],
      "text/plain": [
       "    Country   Slug ISO2\n",
       "141   Spain  spain   ES"
      ]
     },
     "execution_count": 11,
     "metadata": {},
     "output_type": "execute_result"
    }
   ],
   "source": [
    "df[df['Country'] == 'Spain']"
   ]
  },
  {
   "cell_type": "markdown",
   "id": "1cde37de",
   "metadata": {},
   "source": [
    "Defino otra variable con los datos en tiempo real de España.\n",
    "\n",
    "Creo el objeto df_rt_es para que lea la información de la url previa.\n",
    "\n",
    "Luego muestro los datos para ver que ha funcionado correctamente."
   ]
  },
  {
   "cell_type": "code",
   "execution_count": 12,
   "id": "a4916b3c",
   "metadata": {},
   "outputs": [
    {
     "data": {
      "text/html": [
       "<div>\n",
       "<style scoped>\n",
       "    .dataframe tbody tr th:only-of-type {\n",
       "        vertical-align: middle;\n",
       "    }\n",
       "\n",
       "    .dataframe tbody tr th {\n",
       "        vertical-align: top;\n",
       "    }\n",
       "\n",
       "    .dataframe thead th {\n",
       "        text-align: right;\n",
       "    }\n",
       "</style>\n",
       "<table border=\"1\" class=\"dataframe\">\n",
       "  <thead>\n",
       "    <tr style=\"text-align: right;\">\n",
       "      <th></th>\n",
       "      <th>Country</th>\n",
       "      <th>CountryCode</th>\n",
       "      <th>Province</th>\n",
       "      <th>City</th>\n",
       "      <th>CityCode</th>\n",
       "      <th>Lat</th>\n",
       "      <th>Lon</th>\n",
       "      <th>Cases</th>\n",
       "      <th>Status</th>\n",
       "      <th>Date</th>\n",
       "    </tr>\n",
       "  </thead>\n",
       "  <tbody>\n",
       "    <tr>\n",
       "      <th>0</th>\n",
       "      <td>Spain</td>\n",
       "      <td>ES</td>\n",
       "      <td></td>\n",
       "      <td></td>\n",
       "      <td></td>\n",
       "      <td>40.46</td>\n",
       "      <td>-3.75</td>\n",
       "      <td>0</td>\n",
       "      <td>confirmed</td>\n",
       "      <td>2020-01-22 00:00:00+00:00</td>\n",
       "    </tr>\n",
       "    <tr>\n",
       "      <th>1</th>\n",
       "      <td>Spain</td>\n",
       "      <td>ES</td>\n",
       "      <td></td>\n",
       "      <td></td>\n",
       "      <td></td>\n",
       "      <td>40.46</td>\n",
       "      <td>-3.75</td>\n",
       "      <td>0</td>\n",
       "      <td>confirmed</td>\n",
       "      <td>2020-01-23 00:00:00+00:00</td>\n",
       "    </tr>\n",
       "    <tr>\n",
       "      <th>2</th>\n",
       "      <td>Spain</td>\n",
       "      <td>ES</td>\n",
       "      <td></td>\n",
       "      <td></td>\n",
       "      <td></td>\n",
       "      <td>40.46</td>\n",
       "      <td>-3.75</td>\n",
       "      <td>0</td>\n",
       "      <td>confirmed</td>\n",
       "      <td>2020-01-24 00:00:00+00:00</td>\n",
       "    </tr>\n",
       "    <tr>\n",
       "      <th>3</th>\n",
       "      <td>Spain</td>\n",
       "      <td>ES</td>\n",
       "      <td></td>\n",
       "      <td></td>\n",
       "      <td></td>\n",
       "      <td>40.46</td>\n",
       "      <td>-3.75</td>\n",
       "      <td>0</td>\n",
       "      <td>confirmed</td>\n",
       "      <td>2020-01-25 00:00:00+00:00</td>\n",
       "    </tr>\n",
       "    <tr>\n",
       "      <th>4</th>\n",
       "      <td>Spain</td>\n",
       "      <td>ES</td>\n",
       "      <td></td>\n",
       "      <td></td>\n",
       "      <td></td>\n",
       "      <td>40.46</td>\n",
       "      <td>-3.75</td>\n",
       "      <td>0</td>\n",
       "      <td>confirmed</td>\n",
       "      <td>2020-01-26 00:00:00+00:00</td>\n",
       "    </tr>\n",
       "    <tr>\n",
       "      <th>...</th>\n",
       "      <td>...</td>\n",
       "      <td>...</td>\n",
       "      <td>...</td>\n",
       "      <td>...</td>\n",
       "      <td>...</td>\n",
       "      <td>...</td>\n",
       "      <td>...</td>\n",
       "      <td>...</td>\n",
       "      <td>...</td>\n",
       "      <td>...</td>\n",
       "    </tr>\n",
       "    <tr>\n",
       "      <th>890</th>\n",
       "      <td>Spain</td>\n",
       "      <td>ES</td>\n",
       "      <td></td>\n",
       "      <td></td>\n",
       "      <td></td>\n",
       "      <td>40.46</td>\n",
       "      <td>-3.75</td>\n",
       "      <td>12734038</td>\n",
       "      <td>confirmed</td>\n",
       "      <td>2022-06-30 00:00:00+00:00</td>\n",
       "    </tr>\n",
       "    <tr>\n",
       "      <th>891</th>\n",
       "      <td>Spain</td>\n",
       "      <td>ES</td>\n",
       "      <td></td>\n",
       "      <td></td>\n",
       "      <td></td>\n",
       "      <td>40.46</td>\n",
       "      <td>-3.75</td>\n",
       "      <td>12818184</td>\n",
       "      <td>confirmed</td>\n",
       "      <td>2022-07-01 00:00:00+00:00</td>\n",
       "    </tr>\n",
       "    <tr>\n",
       "      <th>892</th>\n",
       "      <td>Spain</td>\n",
       "      <td>ES</td>\n",
       "      <td></td>\n",
       "      <td></td>\n",
       "      <td></td>\n",
       "      <td>40.46</td>\n",
       "      <td>-3.75</td>\n",
       "      <td>12818184</td>\n",
       "      <td>confirmed</td>\n",
       "      <td>2022-07-02 00:00:00+00:00</td>\n",
       "    </tr>\n",
       "    <tr>\n",
       "      <th>893</th>\n",
       "      <td>Spain</td>\n",
       "      <td>ES</td>\n",
       "      <td></td>\n",
       "      <td></td>\n",
       "      <td></td>\n",
       "      <td>40.46</td>\n",
       "      <td>-3.75</td>\n",
       "      <td>12818184</td>\n",
       "      <td>confirmed</td>\n",
       "      <td>2022-07-03 00:00:00+00:00</td>\n",
       "    </tr>\n",
       "    <tr>\n",
       "      <th>894</th>\n",
       "      <td>Spain</td>\n",
       "      <td>ES</td>\n",
       "      <td></td>\n",
       "      <td></td>\n",
       "      <td></td>\n",
       "      <td>40.46</td>\n",
       "      <td>-3.75</td>\n",
       "      <td>12818184</td>\n",
       "      <td>confirmed</td>\n",
       "      <td>2022-07-04 00:00:00+00:00</td>\n",
       "    </tr>\n",
       "  </tbody>\n",
       "</table>\n",
       "<p>895 rows × 10 columns</p>\n",
       "</div>"
      ],
      "text/plain": [
       "    Country CountryCode Province City CityCode    Lat   Lon     Cases  \\\n",
       "0     Spain          ES                         40.46 -3.75         0   \n",
       "1     Spain          ES                         40.46 -3.75         0   \n",
       "2     Spain          ES                         40.46 -3.75         0   \n",
       "3     Spain          ES                         40.46 -3.75         0   \n",
       "4     Spain          ES                         40.46 -3.75         0   \n",
       "..      ...         ...      ...  ...      ...    ...   ...       ...   \n",
       "890   Spain          ES                         40.46 -3.75  12734038   \n",
       "891   Spain          ES                         40.46 -3.75  12818184   \n",
       "892   Spain          ES                         40.46 -3.75  12818184   \n",
       "893   Spain          ES                         40.46 -3.75  12818184   \n",
       "894   Spain          ES                         40.46 -3.75  12818184   \n",
       "\n",
       "        Status                      Date  \n",
       "0    confirmed 2020-01-22 00:00:00+00:00  \n",
       "1    confirmed 2020-01-23 00:00:00+00:00  \n",
       "2    confirmed 2020-01-24 00:00:00+00:00  \n",
       "3    confirmed 2020-01-25 00:00:00+00:00  \n",
       "4    confirmed 2020-01-26 00:00:00+00:00  \n",
       "..         ...                       ...  \n",
       "890  confirmed 2022-06-30 00:00:00+00:00  \n",
       "891  confirmed 2022-07-01 00:00:00+00:00  \n",
       "892  confirmed 2022-07-02 00:00:00+00:00  \n",
       "893  confirmed 2022-07-03 00:00:00+00:00  \n",
       "894  confirmed 2022-07-04 00:00:00+00:00  \n",
       "\n",
       "[895 rows x 10 columns]"
      ]
     },
     "execution_count": 12,
     "metadata": {},
     "output_type": "execute_result"
    }
   ],
   "source": [
    "url_rt_es = 'https://api.covid19api.com/country/spain/status/confirmed/live'\n",
    "df_rt_es = pd.read_json(url_rt_es)\n",
    "df_rt_es"
   ]
  },
  {
   "cell_type": "markdown",
   "id": "3b2eac18",
   "metadata": {},
   "source": [
    "coloco df_rt_es.head() para ver el inicio de la tabla"
   ]
  },
  {
   "cell_type": "code",
   "execution_count": 13,
   "id": "7ae85257",
   "metadata": {},
   "outputs": [
    {
     "data": {
      "text/html": [
       "<div>\n",
       "<style scoped>\n",
       "    .dataframe tbody tr th:only-of-type {\n",
       "        vertical-align: middle;\n",
       "    }\n",
       "\n",
       "    .dataframe tbody tr th {\n",
       "        vertical-align: top;\n",
       "    }\n",
       "\n",
       "    .dataframe thead th {\n",
       "        text-align: right;\n",
       "    }\n",
       "</style>\n",
       "<table border=\"1\" class=\"dataframe\">\n",
       "  <thead>\n",
       "    <tr style=\"text-align: right;\">\n",
       "      <th></th>\n",
       "      <th>Country</th>\n",
       "      <th>CountryCode</th>\n",
       "      <th>Province</th>\n",
       "      <th>City</th>\n",
       "      <th>CityCode</th>\n",
       "      <th>Lat</th>\n",
       "      <th>Lon</th>\n",
       "      <th>Cases</th>\n",
       "      <th>Status</th>\n",
       "      <th>Date</th>\n",
       "    </tr>\n",
       "  </thead>\n",
       "  <tbody>\n",
       "    <tr>\n",
       "      <th>0</th>\n",
       "      <td>Spain</td>\n",
       "      <td>ES</td>\n",
       "      <td></td>\n",
       "      <td></td>\n",
       "      <td></td>\n",
       "      <td>40.46</td>\n",
       "      <td>-3.75</td>\n",
       "      <td>0</td>\n",
       "      <td>confirmed</td>\n",
       "      <td>2020-01-22 00:00:00+00:00</td>\n",
       "    </tr>\n",
       "    <tr>\n",
       "      <th>1</th>\n",
       "      <td>Spain</td>\n",
       "      <td>ES</td>\n",
       "      <td></td>\n",
       "      <td></td>\n",
       "      <td></td>\n",
       "      <td>40.46</td>\n",
       "      <td>-3.75</td>\n",
       "      <td>0</td>\n",
       "      <td>confirmed</td>\n",
       "      <td>2020-01-23 00:00:00+00:00</td>\n",
       "    </tr>\n",
       "    <tr>\n",
       "      <th>2</th>\n",
       "      <td>Spain</td>\n",
       "      <td>ES</td>\n",
       "      <td></td>\n",
       "      <td></td>\n",
       "      <td></td>\n",
       "      <td>40.46</td>\n",
       "      <td>-3.75</td>\n",
       "      <td>0</td>\n",
       "      <td>confirmed</td>\n",
       "      <td>2020-01-24 00:00:00+00:00</td>\n",
       "    </tr>\n",
       "    <tr>\n",
       "      <th>3</th>\n",
       "      <td>Spain</td>\n",
       "      <td>ES</td>\n",
       "      <td></td>\n",
       "      <td></td>\n",
       "      <td></td>\n",
       "      <td>40.46</td>\n",
       "      <td>-3.75</td>\n",
       "      <td>0</td>\n",
       "      <td>confirmed</td>\n",
       "      <td>2020-01-25 00:00:00+00:00</td>\n",
       "    </tr>\n",
       "    <tr>\n",
       "      <th>4</th>\n",
       "      <td>Spain</td>\n",
       "      <td>ES</td>\n",
       "      <td></td>\n",
       "      <td></td>\n",
       "      <td></td>\n",
       "      <td>40.46</td>\n",
       "      <td>-3.75</td>\n",
       "      <td>0</td>\n",
       "      <td>confirmed</td>\n",
       "      <td>2020-01-26 00:00:00+00:00</td>\n",
       "    </tr>\n",
       "  </tbody>\n",
       "</table>\n",
       "</div>"
      ],
      "text/plain": [
       "  Country CountryCode Province City CityCode    Lat   Lon  Cases     Status  \\\n",
       "0   Spain          ES                         40.46 -3.75      0  confirmed   \n",
       "1   Spain          ES                         40.46 -3.75      0  confirmed   \n",
       "2   Spain          ES                         40.46 -3.75      0  confirmed   \n",
       "3   Spain          ES                         40.46 -3.75      0  confirmed   \n",
       "4   Spain          ES                         40.46 -3.75      0  confirmed   \n",
       "\n",
       "                       Date  \n",
       "0 2020-01-22 00:00:00+00:00  \n",
       "1 2020-01-23 00:00:00+00:00  \n",
       "2 2020-01-24 00:00:00+00:00  \n",
       "3 2020-01-25 00:00:00+00:00  \n",
       "4 2020-01-26 00:00:00+00:00  "
      ]
     },
     "execution_count": 13,
     "metadata": {},
     "output_type": "execute_result"
    }
   ],
   "source": [
    "df_rt_es.head()"
   ]
  },
  {
   "cell_type": "markdown",
   "id": "71fe7d0f",
   "metadata": {},
   "source": [
    "Luego df_rt_es.tail() para ver la parte final de la tabla."
   ]
  },
  {
   "cell_type": "code",
   "execution_count": 14,
   "id": "2bae4df6",
   "metadata": {},
   "outputs": [
    {
     "data": {
      "text/html": [
       "<div>\n",
       "<style scoped>\n",
       "    .dataframe tbody tr th:only-of-type {\n",
       "        vertical-align: middle;\n",
       "    }\n",
       "\n",
       "    .dataframe tbody tr th {\n",
       "        vertical-align: top;\n",
       "    }\n",
       "\n",
       "    .dataframe thead th {\n",
       "        text-align: right;\n",
       "    }\n",
       "</style>\n",
       "<table border=\"1\" class=\"dataframe\">\n",
       "  <thead>\n",
       "    <tr style=\"text-align: right;\">\n",
       "      <th></th>\n",
       "      <th>Country</th>\n",
       "      <th>CountryCode</th>\n",
       "      <th>Province</th>\n",
       "      <th>City</th>\n",
       "      <th>CityCode</th>\n",
       "      <th>Lat</th>\n",
       "      <th>Lon</th>\n",
       "      <th>Cases</th>\n",
       "      <th>Status</th>\n",
       "      <th>Date</th>\n",
       "    </tr>\n",
       "  </thead>\n",
       "  <tbody>\n",
       "    <tr>\n",
       "      <th>890</th>\n",
       "      <td>Spain</td>\n",
       "      <td>ES</td>\n",
       "      <td></td>\n",
       "      <td></td>\n",
       "      <td></td>\n",
       "      <td>40.46</td>\n",
       "      <td>-3.75</td>\n",
       "      <td>12734038</td>\n",
       "      <td>confirmed</td>\n",
       "      <td>2022-06-30 00:00:00+00:00</td>\n",
       "    </tr>\n",
       "    <tr>\n",
       "      <th>891</th>\n",
       "      <td>Spain</td>\n",
       "      <td>ES</td>\n",
       "      <td></td>\n",
       "      <td></td>\n",
       "      <td></td>\n",
       "      <td>40.46</td>\n",
       "      <td>-3.75</td>\n",
       "      <td>12818184</td>\n",
       "      <td>confirmed</td>\n",
       "      <td>2022-07-01 00:00:00+00:00</td>\n",
       "    </tr>\n",
       "    <tr>\n",
       "      <th>892</th>\n",
       "      <td>Spain</td>\n",
       "      <td>ES</td>\n",
       "      <td></td>\n",
       "      <td></td>\n",
       "      <td></td>\n",
       "      <td>40.46</td>\n",
       "      <td>-3.75</td>\n",
       "      <td>12818184</td>\n",
       "      <td>confirmed</td>\n",
       "      <td>2022-07-02 00:00:00+00:00</td>\n",
       "    </tr>\n",
       "    <tr>\n",
       "      <th>893</th>\n",
       "      <td>Spain</td>\n",
       "      <td>ES</td>\n",
       "      <td></td>\n",
       "      <td></td>\n",
       "      <td></td>\n",
       "      <td>40.46</td>\n",
       "      <td>-3.75</td>\n",
       "      <td>12818184</td>\n",
       "      <td>confirmed</td>\n",
       "      <td>2022-07-03 00:00:00+00:00</td>\n",
       "    </tr>\n",
       "    <tr>\n",
       "      <th>894</th>\n",
       "      <td>Spain</td>\n",
       "      <td>ES</td>\n",
       "      <td></td>\n",
       "      <td></td>\n",
       "      <td></td>\n",
       "      <td>40.46</td>\n",
       "      <td>-3.75</td>\n",
       "      <td>12818184</td>\n",
       "      <td>confirmed</td>\n",
       "      <td>2022-07-04 00:00:00+00:00</td>\n",
       "    </tr>\n",
       "  </tbody>\n",
       "</table>\n",
       "</div>"
      ],
      "text/plain": [
       "    Country CountryCode Province City CityCode    Lat   Lon     Cases  \\\n",
       "890   Spain          ES                         40.46 -3.75  12734038   \n",
       "891   Spain          ES                         40.46 -3.75  12818184   \n",
       "892   Spain          ES                         40.46 -3.75  12818184   \n",
       "893   Spain          ES                         40.46 -3.75  12818184   \n",
       "894   Spain          ES                         40.46 -3.75  12818184   \n",
       "\n",
       "        Status                      Date  \n",
       "890  confirmed 2022-06-30 00:00:00+00:00  \n",
       "891  confirmed 2022-07-01 00:00:00+00:00  \n",
       "892  confirmed 2022-07-02 00:00:00+00:00  \n",
       "893  confirmed 2022-07-03 00:00:00+00:00  \n",
       "894  confirmed 2022-07-04 00:00:00+00:00  "
      ]
     },
     "execution_count": 14,
     "metadata": {},
     "output_type": "execute_result"
    }
   ],
   "source": [
    "df_rt_es.tail()"
   ]
  },
  {
   "cell_type": "markdown",
   "id": "1f22c748",
   "metadata": {},
   "source": [
    "Tenemos una tabla con columnas para ID, país, código de país, provincia, ciudad, código de ciudad, latitud, longitud, número de casos, estado y la fecha. Si deseo obtener una gráfica con el número de casos y la fecha lo que tengo que hacer es transformar la columna de control. Para ello convierto la columna de fecha en columna de control pidiéndole ya que me muestre los casos España con desde el 20 de enero de 2020 al 29 de junio de 2022 con la expresión df_rt_es.set_index('Date')['Cases'].plot(title=\"Casos de Covid-19 en España desde 20/01/2020 hasta 29/06/2022\") a la que debo darle un nombre de variable para no tener problemas con la configuración de Anaconda3. Le coloco el nombre plot_rt_es."
   ]
  },
  {
   "cell_type": "code",
   "execution_count": 15,
   "id": "6adda6d4",
   "metadata": {},
   "outputs": [
    {
     "data": {
      "image/png": "[encoded data removed]",
      "text/plain": [
       "<Figure size 432x288 with 1 Axes>"
      ]
     },
     "metadata": {
      "needs_background": "light"
     },
     "output_type": "display_data"
    }
   ],
   "source": [
    "plot_rt_es = df_rt_es.set_index('Date')['Cases'].plot(title=\"Casos de Covid-19 en España desde 20/01/2020 hasta 05/07/2022\")"
   ]
  },
  {
   "cell_type": "markdown",
   "id": "278f7980",
   "metadata": {},
   "source": [
    "## Repetir el proceso para Panamá ##"
   ]
  },
  {
   "cell_type": "markdown",
   "id": "8c107ca8",
   "metadata": {},
   "source": [
    "Ejecuto el mismo código de variables, pero para la url de Panamá."
   ]
  },
  {
   "cell_type": "code",
   "execution_count": 16,
   "id": "9bd1d5c4",
   "metadata": {},
   "outputs": [
    {
     "data": {
      "text/html": [
       "<div>\n",
       "<style scoped>\n",
       "    .dataframe tbody tr th:only-of-type {\n",
       "        vertical-align: middle;\n",
       "    }\n",
       "\n",
       "    .dataframe tbody tr th {\n",
       "        vertical-align: top;\n",
       "    }\n",
       "\n",
       "    .dataframe thead th {\n",
       "        text-align: right;\n",
       "    }\n",
       "</style>\n",
       "<table border=\"1\" class=\"dataframe\">\n",
       "  <thead>\n",
       "    <tr style=\"text-align: right;\">\n",
       "      <th></th>\n",
       "      <th>Country</th>\n",
       "      <th>Slug</th>\n",
       "      <th>ISO2</th>\n",
       "    </tr>\n",
       "  </thead>\n",
       "  <tbody>\n",
       "    <tr>\n",
       "      <th>190</th>\n",
       "      <td>Panama</td>\n",
       "      <td>panama</td>\n",
       "      <td>PA</td>\n",
       "    </tr>\n",
       "  </tbody>\n",
       "</table>\n",
       "</div>"
      ],
      "text/plain": [
       "    Country    Slug ISO2\n",
       "190  Panama  panama   PA"
      ]
     },
     "execution_count": 16,
     "metadata": {},
     "output_type": "execute_result"
    }
   ],
   "source": [
    "df[df['Country'] == 'Panama']"
   ]
  },
  {
   "cell_type": "code",
   "execution_count": 17,
   "id": "40c13dd5",
   "metadata": {},
   "outputs": [],
   "source": [
    "url_rt_pa = 'https://api.covid19api.com/country/panama/status/confirmed/live'"
   ]
  },
  {
   "cell_type": "code",
   "execution_count": 18,
   "id": "94a77a4b",
   "metadata": {},
   "outputs": [
    {
     "data": {
      "text/plain": [
       "'https://api.covid19api.com/country/panama/status/confirmed/live'"
      ]
     },
     "execution_count": 18,
     "metadata": {},
     "output_type": "execute_result"
    }
   ],
   "source": [
    "url_rt_pa"
   ]
  },
  {
   "cell_type": "code",
   "execution_count": 19,
   "id": "eb7d68fd",
   "metadata": {},
   "outputs": [],
   "source": [
    "df_rt_pa = pd.read_json(url_rt_pa)"
   ]
  },
  {
   "cell_type": "code",
   "execution_count": 20,
   "id": "d69dadc2",
   "metadata": {},
   "outputs": [
    {
     "data": {
      "text/html": [
       "<div>\n",
       "<style scoped>\n",
       "    .dataframe tbody tr th:only-of-type {\n",
       "        vertical-align: middle;\n",
       "    }\n",
       "\n",
       "    .dataframe tbody tr th {\n",
       "        vertical-align: top;\n",
       "    }\n",
       "\n",
       "    .dataframe thead th {\n",
       "        text-align: right;\n",
       "    }\n",
       "</style>\n",
       "<table border=\"1\" class=\"dataframe\">\n",
       "  <thead>\n",
       "    <tr style=\"text-align: right;\">\n",
       "      <th></th>\n",
       "      <th>Country</th>\n",
       "      <th>CountryCode</th>\n",
       "      <th>Province</th>\n",
       "      <th>City</th>\n",
       "      <th>CityCode</th>\n",
       "      <th>Lat</th>\n",
       "      <th>Lon</th>\n",
       "      <th>Cases</th>\n",
       "      <th>Status</th>\n",
       "      <th>Date</th>\n",
       "    </tr>\n",
       "  </thead>\n",
       "  <tbody>\n",
       "    <tr>\n",
       "      <th>0</th>\n",
       "      <td>Panama</td>\n",
       "      <td>PA</td>\n",
       "      <td></td>\n",
       "      <td></td>\n",
       "      <td></td>\n",
       "      <td>8.54</td>\n",
       "      <td>-80.78</td>\n",
       "      <td>0</td>\n",
       "      <td>confirmed</td>\n",
       "      <td>2020-01-22 00:00:00+00:00</td>\n",
       "    </tr>\n",
       "    <tr>\n",
       "      <th>1</th>\n",
       "      <td>Panama</td>\n",
       "      <td>PA</td>\n",
       "      <td></td>\n",
       "      <td></td>\n",
       "      <td></td>\n",
       "      <td>8.54</td>\n",
       "      <td>-80.78</td>\n",
       "      <td>0</td>\n",
       "      <td>confirmed</td>\n",
       "      <td>2020-01-23 00:00:00+00:00</td>\n",
       "    </tr>\n",
       "    <tr>\n",
       "      <th>2</th>\n",
       "      <td>Panama</td>\n",
       "      <td>PA</td>\n",
       "      <td></td>\n",
       "      <td></td>\n",
       "      <td></td>\n",
       "      <td>8.54</td>\n",
       "      <td>-80.78</td>\n",
       "      <td>0</td>\n",
       "      <td>confirmed</td>\n",
       "      <td>2020-01-24 00:00:00+00:00</td>\n",
       "    </tr>\n",
       "    <tr>\n",
       "      <th>3</th>\n",
       "      <td>Panama</td>\n",
       "      <td>PA</td>\n",
       "      <td></td>\n",
       "      <td></td>\n",
       "      <td></td>\n",
       "      <td>8.54</td>\n",
       "      <td>-80.78</td>\n",
       "      <td>0</td>\n",
       "      <td>confirmed</td>\n",
       "      <td>2020-01-25 00:00:00+00:00</td>\n",
       "    </tr>\n",
       "    <tr>\n",
       "      <th>4</th>\n",
       "      <td>Panama</td>\n",
       "      <td>PA</td>\n",
       "      <td></td>\n",
       "      <td></td>\n",
       "      <td></td>\n",
       "      <td>8.54</td>\n",
       "      <td>-80.78</td>\n",
       "      <td>0</td>\n",
       "      <td>confirmed</td>\n",
       "      <td>2020-01-26 00:00:00+00:00</td>\n",
       "    </tr>\n",
       "    <tr>\n",
       "      <th>...</th>\n",
       "      <td>...</td>\n",
       "      <td>...</td>\n",
       "      <td>...</td>\n",
       "      <td>...</td>\n",
       "      <td>...</td>\n",
       "      <td>...</td>\n",
       "      <td>...</td>\n",
       "      <td>...</td>\n",
       "      <td>...</td>\n",
       "      <td>...</td>\n",
       "    </tr>\n",
       "    <tr>\n",
       "      <th>891</th>\n",
       "      <td>Panama</td>\n",
       "      <td>PA</td>\n",
       "      <td></td>\n",
       "      <td></td>\n",
       "      <td></td>\n",
       "      <td>8.54</td>\n",
       "      <td>-80.78</td>\n",
       "      <td>922990</td>\n",
       "      <td>confirmed</td>\n",
       "      <td>2022-07-01 00:00:00+00:00</td>\n",
       "    </tr>\n",
       "    <tr>\n",
       "      <th>892</th>\n",
       "      <td>Panama</td>\n",
       "      <td>PA</td>\n",
       "      <td></td>\n",
       "      <td></td>\n",
       "      <td></td>\n",
       "      <td>8.54</td>\n",
       "      <td>-80.78</td>\n",
       "      <td>922990</td>\n",
       "      <td>confirmed</td>\n",
       "      <td>2022-07-02 00:00:00+00:00</td>\n",
       "    </tr>\n",
       "    <tr>\n",
       "      <th>893</th>\n",
       "      <td>Panama</td>\n",
       "      <td>PA</td>\n",
       "      <td></td>\n",
       "      <td></td>\n",
       "      <td></td>\n",
       "      <td>8.54</td>\n",
       "      <td>-80.78</td>\n",
       "      <td>925254</td>\n",
       "      <td>confirmed</td>\n",
       "      <td>2022-07-03 00:00:00+00:00</td>\n",
       "    </tr>\n",
       "    <tr>\n",
       "      <th>894</th>\n",
       "      <td>Panama</td>\n",
       "      <td>PA</td>\n",
       "      <td></td>\n",
       "      <td></td>\n",
       "      <td></td>\n",
       "      <td>8.54</td>\n",
       "      <td>-80.78</td>\n",
       "      <td>925254</td>\n",
       "      <td>confirmed</td>\n",
       "      <td>2022-07-04 00:00:00+00:00</td>\n",
       "    </tr>\n",
       "    <tr>\n",
       "      <th>895</th>\n",
       "      <td>Panama</td>\n",
       "      <td>PA</td>\n",
       "      <td></td>\n",
       "      <td></td>\n",
       "      <td></td>\n",
       "      <td>8.54</td>\n",
       "      <td>-80.78</td>\n",
       "      <td>925254</td>\n",
       "      <td>confirmed</td>\n",
       "      <td>2022-07-06 00:00:00+00:00</td>\n",
       "    </tr>\n",
       "  </tbody>\n",
       "</table>\n",
       "<p>896 rows × 10 columns</p>\n",
       "</div>"
      ],
      "text/plain": [
       "    Country CountryCode Province City CityCode   Lat    Lon   Cases  \\\n",
       "0    Panama          PA                         8.54 -80.78       0   \n",
       "1    Panama          PA                         8.54 -80.78       0   \n",
       "2    Panama          PA                         8.54 -80.78       0   \n",
       "3    Panama          PA                         8.54 -80.78       0   \n",
       "4    Panama          PA                         8.54 -80.78       0   \n",
       "..      ...         ...      ...  ...      ...   ...    ...     ...   \n",
       "891  Panama          PA                         8.54 -80.78  922990   \n",
       "892  Panama          PA                         8.54 -80.78  922990   \n",
       "893  Panama          PA                         8.54 -80.78  925254   \n",
       "894  Panama          PA                         8.54 -80.78  925254   \n",
       "895  Panama          PA                         8.54 -80.78  925254   \n",
       "\n",
       "        Status                      Date  \n",
       "0    confirmed 2020-01-22 00:00:00+00:00  \n",
       "1    confirmed 2020-01-23 00:00:00+00:00  \n",
       "2    confirmed 2020-01-24 00:00:00+00:00  \n",
       "3    confirmed 2020-01-25 00:00:00+00:00  \n",
       "4    confirmed 2020-01-26 00:00:00+00:00  \n",
       "..         ...                       ...  \n",
       "891  confirmed 2022-07-01 00:00:00+00:00  \n",
       "892  confirmed 2022-07-02 00:00:00+00:00  \n",
       "893  confirmed 2022-07-03 00:00:00+00:00  \n",
       "894  confirmed 2022-07-04 00:00:00+00:00  \n",
       "895  confirmed 2022-07-06 00:00:00+00:00  \n",
       "\n",
       "[896 rows x 10 columns]"
      ]
     },
     "execution_count": 20,
     "metadata": {},
     "output_type": "execute_result"
    }
   ],
   "source": [
    "df_rt_pa"
   ]
  },
  {
   "cell_type": "code",
   "execution_count": 21,
   "id": "8cdca347",
   "metadata": {},
   "outputs": [
    {
     "data": {
      "image/png": "[encoded data removed]",
      "text/plain": [
       "<Figure size 432x288 with 1 Axes>"
      ]
     },
     "metadata": {
      "needs_background": "light"
     },
     "output_type": "display_data"
    }
   ],
   "source": [
    "plot_rt_pa = df_rt_pa.set_index('Date')['Cases'].plot(title=\"Casos de Covid-19 en Panamá desde 20/01/2020 hasta 05/07/2022\")"
   ]
  },
  {
   "cell_type": "markdown",
   "id": "bf5afb4a",
   "metadata": {},
   "source": [
    "Agrego ,kind=\"area\" al final se colocaría el gráfico de área y con ,kind=\"bar\" el gráfico de barras, aunque este formato no es lógico para este tipo de datos como puede visualizarse en el segundo ejemplo."
   ]
  },
  {
   "cell_type": "code",
   "execution_count": 22,
   "id": "aad57c94",
   "metadata": {},
   "outputs": [
    {
     "data": {
      "image/png": "[encoded data removed]",
      "text/plain": [
       "<Figure size 432x288 with 1 Axes>"
      ]
     },
     "metadata": {
      "needs_background": "light"
     },
     "output_type": "display_data"
    }
   ],
   "source": [
    "plot_rt_pa = df_rt_pa.set_index('Date')['Cases'].plot(title=\"Casos de Covid-19 en Panamá desde 20/01/2020 hasta 05/07/2022\",kind=\"area\")"
   ]
  },
  {
   "cell_type": "code",
   "execution_count": 23,
   "id": "78864c99",
   "metadata": {},
   "outputs": [
    {
     "data": {
      "image/png": "[encoded data removed]",
      "text/plain": [
       "<Figure size 432x288 with 1 Axes>"
      ]
     },
     "metadata": {
      "needs_background": "light"
     },
     "output_type": "display_data"
    }
   ],
   "source": [
    "plot_rt_pa = df_rt_pa.set_index('Date')['Cases'].plot(title=\"Casos de Covid-19 en Panamá desde 20/01/2020 hasta 05/07/2022\",kind=\"bar\")"
   ]
  }
 ],
 "metadata": {
  "kernelspec": {
   "display_name": "Python 3 (ipykernel)",
   "language": "python",
   "name": "python3"
  },
  "language_info": {
   "codemirror_mode": {
    "name": "ipython",
    "version": 3
   },
   "file_extension": ".py",
   "mimetype": "text/x-python",
   "name": "python",
   "nbconvert_exporter": "python",
   "pygments_lexer": "ipython3",
   "version": "3.9.12"
  }
 },
 "nbformat": 4,
 "nbformat_minor": 5
}
